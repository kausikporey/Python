{
 "cells": [
  {
   "cell_type": "code",
   "execution_count": 12,
   "metadata": {},
   "outputs": [
    {
     "name": "stdout",
     "output_type": "stream",
     "text": [
      "['admin', 'config', 'database', 'local', 'registration', 'students-api', 'test']\n",
      "[]\n"
     ]
    }
   ],
   "source": [
    "import pymongo\n",
    "myclient = pymongo.MongoClient(\"mongodb://localhost:27017/\")\n",
    "print(myclient.list_database_names())\n",
    "mydb = myclient[\"mydatabase\"]\n",
    "print(mydb.list_collection_names())\n",
    "mycol = mydb['customers']"
   ]
  },
  {
   "cell_type": "code",
   "execution_count": 17,
   "metadata": {},
   "outputs": [
    {
     "name": "stdout",
     "output_type": "stream",
     "text": [
      "601a92b45a221379b5afe7f9\n"
     ]
    }
   ],
   "source": [
    "mydict = { \"name\": \"John\", \"address\": \"Highway 37\" }\n",
    "x = mycol.insert_one(mydict)\n",
    "print(x.inserted_id)"
   ]
  },
  {
   "cell_type": "code",
   "execution_count": 18,
   "metadata": {},
   "outputs": [
    {
     "name": "stdout",
     "output_type": "stream",
     "text": [
      "[ObjectId('601a92e35a221379b5afe7fa'), ObjectId('601a92e35a221379b5afe7fb'), ObjectId('601a92e35a221379b5afe7fc'), ObjectId('601a92e35a221379b5afe7fd'), ObjectId('601a92e35a221379b5afe7fe'), ObjectId('601a92e35a221379b5afe7ff'), ObjectId('601a92e35a221379b5afe800'), ObjectId('601a92e35a221379b5afe801'), ObjectId('601a92e35a221379b5afe802'), ObjectId('601a92e35a221379b5afe803'), ObjectId('601a92e35a221379b5afe804'), ObjectId('601a92e35a221379b5afe805')]\n"
     ]
    }
   ],
   "source": [
    "mylist = [\n",
    "  { \"name\": \"Amy\", \"address\": \"Apple st 652\"},\n",
    "  { \"name\": \"Hannah\", \"address\": \"Mountain 21\"},\n",
    "  { \"name\": \"Michael\", \"address\": \"Valley 345\"},\n",
    "  { \"name\": \"Sandy\", \"address\": \"Ocean blvd 2\"},\n",
    "  { \"name\": \"Betty\", \"address\": \"Green Grass 1\"},\n",
    "  { \"name\": \"Richard\", \"address\": \"Sky st 331\"},\n",
    "  { \"name\": \"Susan\", \"address\": \"One way 98\"},\n",
    "  { \"name\": \"Vicky\", \"address\": \"Yellow Garden 2\"},\n",
    "  { \"name\": \"Ben\", \"address\": \"Park Lane 38\"},\n",
    "  { \"name\": \"William\", \"address\": \"Central st 954\"},\n",
    "  { \"name\": \"Chuck\", \"address\": \"Main Road 989\"},\n",
    "  { \"name\": \"Viola\", \"address\": \"Sideway 1633\"}\n",
    "]\n",
    "\n",
    "x = mycol.insert_many(mylist)\n",
    "\n",
    "#print list of the _id values of the inserted documents:\n",
    "print(x.inserted_ids)"
   ]
  },
  {
   "cell_type": "code",
   "execution_count": 21,
   "metadata": {},
   "outputs": [
    {
     "name": "stdout",
     "output_type": "stream",
     "text": [
      "{'_id': ObjectId('601a92905a221379b5afe7f7'), 'name': 'John', 'address': 'Highway 37'}\n"
     ]
    }
   ],
   "source": [
    "x = mycol.find_one()\n",
    "print(x)"
   ]
  },
  {
   "cell_type": "code",
   "execution_count": 24,
   "metadata": {},
   "outputs": [
    {
     "name": "stdout",
     "output_type": "stream",
     "text": [
      "{'_id': ObjectId('601a92905a221379b5afe7f7'), 'name': 'John', 'address': 'Highway 37'}\n",
      "{'_id': ObjectId('601a92a05a221379b5afe7f8'), 'name': 'John', 'address': 'Highway 37'}\n",
      "{'_id': ObjectId('601a92b45a221379b5afe7f9'), 'name': 'John', 'address': 'Highway 37'}\n",
      "{'_id': ObjectId('601a92e35a221379b5afe7fa'), 'name': 'Amy', 'address': 'Apple st 652'}\n",
      "{'_id': ObjectId('601a92e35a221379b5afe7fb'), 'name': 'Hannah', 'address': 'Mountain 21'}\n",
      "{'_id': ObjectId('601a92e35a221379b5afe7fc'), 'name': 'Michael', 'address': 'Valley 345'}\n",
      "{'_id': ObjectId('601a92e35a221379b5afe7fd'), 'name': 'Sandy', 'address': 'Ocean blvd 2'}\n",
      "{'_id': ObjectId('601a92e35a221379b5afe7fe'), 'name': 'Betty', 'address': 'Green Grass 1'}\n",
      "{'_id': ObjectId('601a92e35a221379b5afe7ff'), 'name': 'Richard', 'address': 'Sky st 331'}\n",
      "{'_id': ObjectId('601a92e35a221379b5afe800'), 'name': 'Susan', 'address': 'One way 98'}\n",
      "{'_id': ObjectId('601a92e35a221379b5afe801'), 'name': 'Vicky', 'address': 'Yellow Garden 2'}\n",
      "{'_id': ObjectId('601a92e35a221379b5afe802'), 'name': 'Ben', 'address': 'Park Lane 38'}\n",
      "{'_id': ObjectId('601a92e35a221379b5afe803'), 'name': 'William', 'address': 'Central st 954'}\n",
      "{'_id': ObjectId('601a92e35a221379b5afe804'), 'name': 'Chuck', 'address': 'Main Road 989'}\n",
      "{'_id': ObjectId('601a92e35a221379b5afe805'), 'name': 'Viola', 'address': 'Sideway 1633'}\n"
     ]
    }
   ],
   "source": [
    "for x in mycol.find():\n",
    "    print(x)"
   ]
  },
  {
   "cell_type": "code",
   "execution_count": 26,
   "metadata": {},
   "outputs": [
    {
     "name": "stdout",
     "output_type": "stream",
     "text": [
      "{'name': 'John', 'address': 'Highway 37'}\n",
      "{'name': 'John', 'address': 'Highway 37'}\n",
      "{'name': 'John', 'address': 'Highway 37'}\n",
      "{'name': 'Amy', 'address': 'Apple st 652'}\n",
      "{'name': 'Hannah', 'address': 'Mountain 21'}\n",
      "{'name': 'Michael', 'address': 'Valley 345'}\n",
      "{'name': 'Sandy', 'address': 'Ocean blvd 2'}\n",
      "{'name': 'Betty', 'address': 'Green Grass 1'}\n",
      "{'name': 'Richard', 'address': 'Sky st 331'}\n",
      "{'name': 'Susan', 'address': 'One way 98'}\n",
      "{'name': 'Vicky', 'address': 'Yellow Garden 2'}\n",
      "{'name': 'Ben', 'address': 'Park Lane 38'}\n",
      "{'name': 'William', 'address': 'Central st 954'}\n",
      "{'name': 'Chuck', 'address': 'Main Road 989'}\n",
      "{'name': 'Viola', 'address': 'Sideway 1633'}\n"
     ]
    }
   ],
   "source": [
    "for x in mycol.find({},{ \"_id\": 0, \"name\": 1, \"address\": 1 }):\n",
    "    print(x)"
   ]
  },
  {
   "cell_type": "code",
   "execution_count": 30,
   "metadata": {},
   "outputs": [
    {
     "name": "stdout",
     "output_type": "stream",
     "text": [
      "{'_id': ObjectId('601a92e35a221379b5afe802'), 'name': 'Ben', 'address': 'Park Lane 38'}\n"
     ]
    }
   ],
   "source": [
    "myquery = { \"address\": \"Park Lane 38\" }\n",
    "mydoc = mycol.find(myquery)\n",
    "for x in mydoc:\n",
    "    print(x)"
   ]
  },
  {
   "cell_type": "code",
   "execution_count": 31,
   "metadata": {},
   "outputs": [
    {
     "name": "stdout",
     "output_type": "stream",
     "text": [
      "{'_id': ObjectId('601a92e35a221379b5afe7fc'), 'name': 'Michael', 'address': 'Valley 345'}\n",
      "{'_id': ObjectId('601a92e35a221379b5afe7ff'), 'name': 'Richard', 'address': 'Sky st 331'}\n",
      "{'_id': ObjectId('601a92e35a221379b5afe801'), 'name': 'Vicky', 'address': 'Yellow Garden 2'}\n",
      "{'_id': ObjectId('601a92e35a221379b5afe805'), 'name': 'Viola', 'address': 'Sideway 1633'}\n"
     ]
    }
   ],
   "source": [
    "#Find documents where the address starts with the letter \"S\" or higher:\n",
    "myquery = { \"address\": { \"$gt\": \"S\" } }\n",
    "mydoc = mycol.find(myquery)\n",
    "for x in mydoc:\n",
    "    print(x)"
   ]
  },
  {
   "cell_type": "code",
   "execution_count": 33,
   "metadata": {},
   "outputs": [
    {
     "name": "stdout",
     "output_type": "stream",
     "text": [
      "{'_id': ObjectId('601a92e35a221379b5afe7ff'), 'name': 'Richard', 'address': 'Sky st 331'}\n",
      "{'_id': ObjectId('601a92e35a221379b5afe805'), 'name': 'Viola', 'address': 'Sideway 1633'}\n"
     ]
    }
   ],
   "source": [
    "#Find documents where the address starts with the letter \"S\":\n",
    "myquery = { \"address\": { \"$regex\": \"^S\" } }\n",
    "mydoc = mycol.find(myquery)\n",
    "for x in mydoc:\n",
    "    print(x)"
   ]
  },
  {
   "cell_type": "code",
   "execution_count": 34,
   "metadata": {},
   "outputs": [
    {
     "name": "stdout",
     "output_type": "stream",
     "text": [
      "{'_id': ObjectId('601a92e35a221379b5afe7fa'), 'name': 'Amy', 'address': 'Apple st 652'}\n",
      "{'_id': ObjectId('601a92e35a221379b5afe802'), 'name': 'Ben', 'address': 'Park Lane 38'}\n",
      "{'_id': ObjectId('601a92e35a221379b5afe7fe'), 'name': 'Betty', 'address': 'Green Grass 1'}\n",
      "{'_id': ObjectId('601a92e35a221379b5afe804'), 'name': 'Chuck', 'address': 'Main Road 989'}\n",
      "{'_id': ObjectId('601a92e35a221379b5afe7fb'), 'name': 'Hannah', 'address': 'Mountain 21'}\n",
      "{'_id': ObjectId('601a92905a221379b5afe7f7'), 'name': 'John', 'address': 'Highway 37'}\n",
      "{'_id': ObjectId('601a92a05a221379b5afe7f8'), 'name': 'John', 'address': 'Highway 37'}\n",
      "{'_id': ObjectId('601a92b45a221379b5afe7f9'), 'name': 'John', 'address': 'Highway 37'}\n",
      "{'_id': ObjectId('601a92e35a221379b5afe7fc'), 'name': 'Michael', 'address': 'Valley 345'}\n",
      "{'_id': ObjectId('601a92e35a221379b5afe7ff'), 'name': 'Richard', 'address': 'Sky st 331'}\n",
      "{'_id': ObjectId('601a92e35a221379b5afe7fd'), 'name': 'Sandy', 'address': 'Ocean blvd 2'}\n",
      "{'_id': ObjectId('601a92e35a221379b5afe800'), 'name': 'Susan', 'address': 'One way 98'}\n",
      "{'_id': ObjectId('601a92e35a221379b5afe801'), 'name': 'Vicky', 'address': 'Yellow Garden 2'}\n",
      "{'_id': ObjectId('601a92e35a221379b5afe805'), 'name': 'Viola', 'address': 'Sideway 1633'}\n",
      "{'_id': ObjectId('601a92e35a221379b5afe803'), 'name': 'William', 'address': 'Central st 954'}\n"
     ]
    }
   ],
   "source": [
    "mydoc = mycol.find().sort(\"name\")\n",
    "for x in mydoc:\n",
    "    print(x)"
   ]
  },
  {
   "cell_type": "code",
   "execution_count": 35,
   "metadata": {},
   "outputs": [
    {
     "name": "stdout",
     "output_type": "stream",
     "text": [
      "{'_id': ObjectId('601a92e35a221379b5afe803'), 'name': 'William', 'address': 'Central st 954'}\n",
      "{'_id': ObjectId('601a92e35a221379b5afe805'), 'name': 'Viola', 'address': 'Sideway 1633'}\n",
      "{'_id': ObjectId('601a92e35a221379b5afe801'), 'name': 'Vicky', 'address': 'Yellow Garden 2'}\n",
      "{'_id': ObjectId('601a92e35a221379b5afe800'), 'name': 'Susan', 'address': 'One way 98'}\n",
      "{'_id': ObjectId('601a92e35a221379b5afe7fd'), 'name': 'Sandy', 'address': 'Ocean blvd 2'}\n",
      "{'_id': ObjectId('601a92e35a221379b5afe7ff'), 'name': 'Richard', 'address': 'Sky st 331'}\n",
      "{'_id': ObjectId('601a92e35a221379b5afe7fc'), 'name': 'Michael', 'address': 'Valley 345'}\n",
      "{'_id': ObjectId('601a92905a221379b5afe7f7'), 'name': 'John', 'address': 'Highway 37'}\n",
      "{'_id': ObjectId('601a92a05a221379b5afe7f8'), 'name': 'John', 'address': 'Highway 37'}\n",
      "{'_id': ObjectId('601a92b45a221379b5afe7f9'), 'name': 'John', 'address': 'Highway 37'}\n",
      "{'_id': ObjectId('601a92e35a221379b5afe7fb'), 'name': 'Hannah', 'address': 'Mountain 21'}\n",
      "{'_id': ObjectId('601a92e35a221379b5afe804'), 'name': 'Chuck', 'address': 'Main Road 989'}\n",
      "{'_id': ObjectId('601a92e35a221379b5afe7fe'), 'name': 'Betty', 'address': 'Green Grass 1'}\n",
      "{'_id': ObjectId('601a92e35a221379b5afe802'), 'name': 'Ben', 'address': 'Park Lane 38'}\n",
      "{'_id': ObjectId('601a92e35a221379b5afe7fa'), 'name': 'Amy', 'address': 'Apple st 652'}\n"
     ]
    }
   ],
   "source": [
    "mydoc = mycol.find().sort(\"name\", -1)\n",
    "for x in mydoc:\n",
    "    print(x)"
   ]
  },
  {
   "cell_type": "code",
   "execution_count": 37,
   "metadata": {},
   "outputs": [
    {
     "name": "stdout",
     "output_type": "stream",
     "text": [
      "0\n"
     ]
    }
   ],
   "source": [
    "myquery = { \"address\": \"Mountain 21\" }\n",
    "x = mycol.delete_one(myquery)\n",
    "print(x.deleted_count)"
   ]
  },
  {
   "cell_type": "code",
   "execution_count": 38,
   "metadata": {},
   "outputs": [
    {
     "name": "stdout",
     "output_type": "stream",
     "text": [
      "2  documents deleted.\n"
     ]
    }
   ],
   "source": [
    "myquery = { \"address\": {\"$regex\": \"^S\"} }\n",
    "x = mycol.delete_many(myquery)\n",
    "print(x.deleted_count, \" documents deleted.\")"
   ]
  },
  {
   "cell_type": "code",
   "execution_count": null,
   "metadata": {},
   "outputs": [],
   "source": [
    "x = mycol.delete_many({})\n",
    "print(x.deleted_count, \" documents deleted.\")"
   ]
  },
  {
   "cell_type": "code",
   "execution_count": null,
   "metadata": {},
   "outputs": [],
   "source": [
    "mycol.drop()"
   ]
  },
  {
   "cell_type": "code",
   "execution_count": 39,
   "metadata": {},
   "outputs": [
    {
     "name": "stdout",
     "output_type": "stream",
     "text": [
      "{'_id': ObjectId('601a92905a221379b5afe7f7'), 'name': 'John', 'address': 'Highway 37'}\n",
      "{'_id': ObjectId('601a92a05a221379b5afe7f8'), 'name': 'John', 'address': 'Highway 37'}\n",
      "{'_id': ObjectId('601a92b45a221379b5afe7f9'), 'name': 'John', 'address': 'Highway 37'}\n",
      "{'_id': ObjectId('601a92e35a221379b5afe7fa'), 'name': 'Amy', 'address': 'Apple st 652'}\n",
      "{'_id': ObjectId('601a92e35a221379b5afe7fc'), 'name': 'Michael', 'address': 'Canyon 123'}\n",
      "{'_id': ObjectId('601a92e35a221379b5afe7fd'), 'name': 'Sandy', 'address': 'Ocean blvd 2'}\n",
      "{'_id': ObjectId('601a92e35a221379b5afe7fe'), 'name': 'Betty', 'address': 'Green Grass 1'}\n",
      "{'_id': ObjectId('601a92e35a221379b5afe800'), 'name': 'Susan', 'address': 'One way 98'}\n",
      "{'_id': ObjectId('601a92e35a221379b5afe801'), 'name': 'Vicky', 'address': 'Yellow Garden 2'}\n",
      "{'_id': ObjectId('601a92e35a221379b5afe802'), 'name': 'Ben', 'address': 'Park Lane 38'}\n",
      "{'_id': ObjectId('601a92e35a221379b5afe803'), 'name': 'William', 'address': 'Central st 954'}\n",
      "{'_id': ObjectId('601a92e35a221379b5afe804'), 'name': 'Chuck', 'address': 'Main Road 989'}\n"
     ]
    }
   ],
   "source": [
    "myquery = { \"address\": \"Valley 345\" }\n",
    "newvalues = { \"$set\": { \"address\": \"Canyon 123\" } }\n",
    "mycol.update_one(myquery, newvalues)\n",
    "#print \"customers\" after the update:\n",
    "for x in mycol.find():\n",
    "    print(x)"
   ]
  },
  {
   "cell_type": "code",
   "execution_count": 40,
   "metadata": {},
   "outputs": [
    {
     "name": "stdout",
     "output_type": "stream",
     "text": [
      "0 documents updated.\n"
     ]
    }
   ],
   "source": [
    "myquery = { \"address\": { \"$regex\": \"^S\" } }\n",
    "newvalues = { \"$set\": { \"name\": \"Minnie\" } }\n",
    "x = mycol.update_many(myquery, newvalues)\n",
    "print(x.modified_count, \"documents updated.\")"
   ]
  },
  {
   "cell_type": "code",
   "execution_count": 41,
   "metadata": {},
   "outputs": [
    {
     "name": "stdout",
     "output_type": "stream",
     "text": [
      "{'_id': ObjectId('601a92905a221379b5afe7f7'), 'name': 'John', 'address': 'Highway 37'}\n",
      "{'_id': ObjectId('601a92a05a221379b5afe7f8'), 'name': 'John', 'address': 'Highway 37'}\n",
      "{'_id': ObjectId('601a92b45a221379b5afe7f9'), 'name': 'John', 'address': 'Highway 37'}\n",
      "{'_id': ObjectId('601a92e35a221379b5afe7fa'), 'name': 'Amy', 'address': 'Apple st 652'}\n",
      "{'_id': ObjectId('601a92e35a221379b5afe7fc'), 'name': 'Michael', 'address': 'Canyon 123'}\n"
     ]
    }
   ],
   "source": [
    "myresult = mycol.find().limit(5)\n",
    "#print the result:\n",
    "for x in myresult:\n",
    "    print(x)"
   ]
  },
  {
   "cell_type": "code",
   "execution_count": 43,
   "metadata": {},
   "outputs": [],
   "source": [
    "#delete database named 'organisation'\n",
    "myclient.drop_database('mydatabase')"
   ]
  },
  {
   "cell_type": "code",
   "execution_count": null,
   "metadata": {},
   "outputs": [],
   "source": []
  }
 ],
 "metadata": {
  "kernelspec": {
   "display_name": "Python 3",
   "language": "python",
   "name": "python3"
  },
  "language_info": {
   "codemirror_mode": {
    "name": "ipython",
    "version": 3
   },
   "file_extension": ".py",
   "mimetype": "text/x-python",
   "name": "python",
   "nbconvert_exporter": "python",
   "pygments_lexer": "ipython3",
   "version": "3.8.5"
  }
 },
 "nbformat": 4,
 "nbformat_minor": 4
}
