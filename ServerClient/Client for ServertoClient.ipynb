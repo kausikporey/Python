{
 "cells": [
  {
   "cell_type": "code",
   "execution_count": 4,
   "metadata": {},
   "outputs": [
    {
     "name": "stdout",
     "output_type": "stream",
     "text": [
      "I am ready for your service\n",
      "Client to Server SAY : quit\n",
      "you have closed your connectiion\n"
     ]
    }
   ],
   "source": [
    "import socket\n",
    "c = socket.socket()\n",
    "host = \"192.168.43.230\"\n",
    "port = 9999\n",
    "c.connect((host,port))\n",
    "server_say = c.recv(1024).decode()\n",
    "print(server_say)\n",
    "while True:\n",
    "    msg = input(\"Client to Server SAY : \")\n",
    "    c.send(bytes(msg,'utf-8'))\n",
    "    server_say = c.recv(1024).decode()\n",
    "    if server_say == 'Closed Connection':\n",
    "        print(\"you have closed your connectiion\")\n",
    "        break\n",
    "    else:\n",
    "        print(server_say)"
   ]
  },
  {
   "cell_type": "code",
   "execution_count": null,
   "metadata": {},
   "outputs": [],
   "source": []
  },
  {
   "cell_type": "code",
   "execution_count": null,
   "metadata": {},
   "outputs": [],
   "source": []
  }
 ],
 "metadata": {
  "kernelspec": {
   "display_name": "Python 3",
   "language": "python",
   "name": "python3"
  },
  "language_info": {
   "codemirror_mode": {
    "name": "ipython",
    "version": 3
   },
   "file_extension": ".py",
   "mimetype": "text/x-python",
   "name": "python",
   "nbconvert_exporter": "python",
   "pygments_lexer": "ipython3",
   "version": "3.7.1"
  }
 },
 "nbformat": 4,
 "nbformat_minor": 2
}
