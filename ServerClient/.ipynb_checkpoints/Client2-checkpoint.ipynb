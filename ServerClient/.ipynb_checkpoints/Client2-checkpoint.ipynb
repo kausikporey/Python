{
 "cells": [
  {
   "cell_type": "code",
   "execution_count": null,
   "metadata": {},
   "outputs": [
    {
     "name": "stdout",
     "output_type": "stream",
     "text": [
      "Server : I am ready for your service\n",
      "Client1 to Client2 SAY :  hi\n",
      "Client2 to Client1 SAY : hello\n",
      "Client1 to Client2 SAY :  Message Received\n",
      "Client2 to Client1 SAY : kuch nahi\n",
      "Client1 to Client2 SAY :  kya kar raha ho\n"
     ]
    }
   ],
   "source": [
    "import socket\n",
    "c = socket.socket()\n",
    "host = \"localhost\"\n",
    "port = 9999\n",
    "c.connect((host,port))\n",
    "server_say = c.recv(1024).decode()\n",
    "print(server_say)\n",
    "while True:\n",
    "    server_say = c.recv(1024).decode()\n",
    "    if server_say == 'Closed Connection':\n",
    "        print(\"you have closed your connectiion\")\n",
    "        break\n",
    "    else:\n",
    "        print(\"Client1 to Client2 SAY : \",server_say)\n",
    "        msg = input(\"Client2 to Client1 SAY : \")\n",
    "        c.send(bytes(msg,'utf-8'))\n",
    "        \n",
    "    client_say = c.recv(1024).decode()\n",
    "    if client_say == 'Closed Connection':\n",
    "        print(\"you have closed your connectiion\")\n",
    "        break\n",
    "    else:\n",
    "        print(\"Client1 to Client2 SAY : \",client_say)"
   ]
  },
  {
   "cell_type": "code",
   "execution_count": null,
   "metadata": {},
   "outputs": [],
   "source": []
  },
  {
   "cell_type": "code",
   "execution_count": null,
   "metadata": {},
   "outputs": [],
   "source": []
  }
 ],
 "metadata": {
  "kernelspec": {
   "display_name": "Python 3",
   "language": "python",
   "name": "python3"
  },
  "language_info": {
   "codemirror_mode": {
    "name": "ipython",
    "version": 3
   },
   "file_extension": ".py",
   "mimetype": "text/x-python",
   "name": "python",
   "nbconvert_exporter": "python",
   "pygments_lexer": "ipython3",
   "version": "3.7.1"
  }
 },
 "nbformat": 4,
 "nbformat_minor": 2
}
