{
 "cells": [
  {
   "cell_type": "code",
   "execution_count": 2,
   "metadata": {},
   "outputs": [
    {
     "name": "stdout",
     "output_type": "stream",
     "text": [
      "Server to Client SAY :  I am ready for your service\n",
      "Client to Server : hi\n",
      "Server to Client SAY :  hello\n",
      "Client to Server : hi\n",
      "Server to Client SAY :  hello\n",
      "Client to Server : quit\n",
      "you have closed your connectiion\n"
     ]
    }
   ],
   "source": [
    "import socket\n",
    "c = socket.socket()\n",
    "host = \"localhost\"\n",
    "port = 9999\n",
    "c.connect((host,port))\n",
    "while True:\n",
    "    server_say = c.recv(1024).decode()\n",
    "    if server_say == 'Closed Connection':\n",
    "        print(\"you have closed your connectiion\")\n",
    "        break\n",
    "    else:\n",
    "        print(\"Server to Client SAY : \",server_say)\n",
    "        msg = input(\"Client to Server : \")\n",
    "        c.send(bytes(msg,'utf-8'))"
   ]
  },
  {
   "cell_type": "code",
   "execution_count": null,
   "metadata": {},
   "outputs": [],
   "source": []
  },
  {
   "cell_type": "code",
   "execution_count": null,
   "metadata": {},
   "outputs": [],
   "source": []
  }
 ],
 "metadata": {
  "kernelspec": {
   "display_name": "Python 3",
   "language": "python",
   "name": "python3"
  },
  "language_info": {
   "codemirror_mode": {
    "name": "ipython",
    "version": 3
   },
   "file_extension": ".py",
   "mimetype": "text/x-python",
   "name": "python",
   "nbconvert_exporter": "python",
   "pygments_lexer": "ipython3",
   "version": "3.7.1"
  }
 },
 "nbformat": 4,
 "nbformat_minor": 2
}
