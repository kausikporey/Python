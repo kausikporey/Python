{
 "cells": [
  {
   "cell_type": "code",
   "execution_count": 1,
   "metadata": {},
   "outputs": [
    {
     "name": "stdout",
     "output_type": "stream",
     "text": [
      "Waiting For The Client..............\n",
      "Waiting For The Client..............\n",
      "Connected :  IP :127.0.0.1 Port : 53741\n",
      "Server to Client : "
     ]
    },
    {
     "name": "stderr",
     "output_type": "stream",
     "text": [
      "Exception in thread Thread-6:\n",
      "Traceback (most recent call last):\n",
      "  File \"C:\\Users\\USER\\Anaconda3\\lib\\threading.py\", line 917, in _bootstrap_inner\n",
      "    self.run()\n",
      "  File \"C:\\Users\\USER\\Anaconda3\\lib\\threading.py\", line 865, in run\n",
      "    self._target(*self._args, **self._kwargs)\n",
      "  File \"<ipython-input-1-afb0630b452c>\", line 31, in tar\n",
      "    Connection()\n",
      "  File \"<ipython-input-1-afb0630b452c>\", line 19, in Connection\n",
      "    msg = input(\"Server to Client : \")\n",
      "EOFError: EOF when reading a line\n",
      "\n"
     ]
    }
   ],
   "source": [
    "import  socket\n",
    "import time as t\n",
    "from threading import *\n",
    "\n",
    "s = socket.socket()\n",
    "host = \"localhost\"\n",
    "port = 9999\n",
    "s.bind((host,port))\n",
    "s.listen(3)\n",
    "def fun():\n",
    "        print(\"Waiting For The Client..............\")\n",
    "        global conn\n",
    "        global addr\n",
    "        conn,addr = s.accept()\n",
    "        print(\"Connected : \"+ \" IP :\" +addr[0] + \" Port : \"+str(addr[1]))\n",
    "#         conn.send(bytes('I am ready for your service','utf-8')) \n",
    "def Connection():\n",
    "    while True:\n",
    "        msg = input(\"Server to Client : \")\n",
    "        conn.send(bytes(msg,'utf-8'))\n",
    "        clientmsg = conn.recv(1024).decode()\n",
    "        if clientmsg == 'quit':\n",
    "            conn.send(bytes('Closed Connection','utf-8'))\n",
    "            conn.close()\n",
    "            print(\"Connection Closed\")\n",
    "            fun()\n",
    "        else:    \n",
    "            print(\"Client to Server SAY : \",clientmsg)\n",
    "def tar():\n",
    "    fun()\n",
    "    Connection()\n",
    "                \n",
    "obj = Thread(target = tar)\n",
    "obj2 = Thread(target = tar)\n",
    "obj.start()\n",
    "obj2.start()    "
   ]
  },
  {
   "cell_type": "code",
   "execution_count": null,
   "metadata": {},
   "outputs": [],
   "source": []
  },
  {
   "cell_type": "code",
   "execution_count": null,
   "metadata": {},
   "outputs": [],
   "source": []
  }
 ],
 "metadata": {
  "kernelspec": {
   "display_name": "Python 3",
   "language": "python",
   "name": "python3"
  },
  "language_info": {
   "codemirror_mode": {
    "name": "ipython",
    "version": 3
   },
   "file_extension": ".py",
   "mimetype": "text/x-python",
   "name": "python",
   "nbconvert_exporter": "python",
   "pygments_lexer": "ipython3",
   "version": "3.7.1"
  }
 },
 "nbformat": 4,
 "nbformat_minor": 2
}
