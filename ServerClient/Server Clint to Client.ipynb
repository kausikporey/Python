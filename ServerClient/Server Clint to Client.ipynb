{
 "cells": [
  {
   "cell_type": "code",
   "execution_count": null,
   "metadata": {},
   "outputs": [
    {
     "name": "stdout",
     "output_type": "stream",
     "text": [
      "Waiting For The Client..............\n",
      "Connected :  IP :127.0.0.1 Port : 51688\n",
      "Connected :  IP :127.0.0.1 Port : 51689\n",
      "Client1 Closed his Connection\n",
      "Client2 Closed his Connection\n",
      "Connected :  IP :127.0.0.1 Port : 51692\n",
      "Connected :  IP :127.0.0.1 Port : 51693\n",
      "Client1 Closed his Connection\n",
      "Client2 Closed his Connection\n"
     ]
    }
   ],
   "source": [
    "import  socket\n",
    "import time as t\n",
    "from threading import *\n",
    "\n",
    "s = socket.socket()\n",
    "host = \"localhost\"\n",
    "port = 9999\n",
    "s.bind((host,port))\n",
    "s.listen(3)\n",
    "print(\"Waiting For The Client..............\")\n",
    "def fun():\n",
    "        global conn\n",
    "        global addr\n",
    "        conn,addr = s.accept()\n",
    "        print(\"Connected : \"+ \" IP :\" +addr[0] + \" Port : \"+str(addr[1]))\n",
    "        conn.send(bytes('Server : I am ready for your service','utf-8')) \n",
    "def fun2():\n",
    "        global conn2\n",
    "        global addr2\n",
    "        conn2,addr2 = s.accept()\n",
    "        print(\"Connected : \"+ \" IP :\" +addr2[0] + \" Port : \"+str(addr2[1]))\n",
    "        conn2.send(bytes('Server : I am ready for your service','utf-8'))         \n",
    "fun()\n",
    "fun2()\n",
    "while True:\n",
    "        clientmsg1 = conn.recv(1024).decode()\n",
    "        if clientmsg1 == 'quit':\n",
    "            conn.send(bytes('Closed Connection','utf-8'))\n",
    "            conn2.send(bytes('Client1 Closed his Connection','utf-8'))\n",
    "            conn.close()\n",
    "            print('Client1 Closed his Connection')\n",
    "        else: \n",
    "            conn2.send(bytes(clientmsg1,'utf-8'))\n",
    "            conn.send(bytes('Message Received','utf-8'))\n",
    "            \n",
    "        clientmsg2  = conn2.recv(1024).decode()\n",
    "        if clientmsg2 == 'quit':\n",
    "            conn2.send(bytes('Closed Connection','utf-8'))\n",
    "#             conn.send(bytes('Client2 Closed his Connection','utf-8'))\n",
    "            conn2.close()\n",
    "            print(\"Client2 Closed his Connection\")\n",
    "            fun()\n",
    "            fun2()\n",
    "        else: \n",
    "            conn.send(bytes(clientmsg2,'utf-8'))\n",
    "            conn2.send(bytes('Message Received','utf-8'))\n",
    "        \n",
    "            "
   ]
  },
  {
   "cell_type": "code",
   "execution_count": null,
   "metadata": {},
   "outputs": [],
   "source": []
  },
  {
   "cell_type": "code",
   "execution_count": null,
   "metadata": {},
   "outputs": [],
   "source": []
  }
 ],
 "metadata": {
  "kernelspec": {
   "display_name": "Python 3",
   "language": "python",
   "name": "python3"
  },
  "language_info": {
   "codemirror_mode": {
    "name": "ipython",
    "version": 3
   },
   "file_extension": ".py",
   "mimetype": "text/x-python",
   "name": "python",
   "nbconvert_exporter": "python",
   "pygments_lexer": "ipython3",
   "version": "3.7.1"
  }
 },
 "nbformat": 4,
 "nbformat_minor": 2
}
