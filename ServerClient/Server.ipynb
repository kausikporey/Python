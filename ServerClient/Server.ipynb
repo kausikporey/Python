{
 "cells": [
  {
   "cell_type": "code",
   "execution_count": null,
   "metadata": {},
   "outputs": [
    {
     "name": "stdout",
     "output_type": "stream",
     "text": [
      "Waiting For The Client..............\n",
      "Connected :  IP :192.168.43.230 Port : 52787\n",
      "Client to Server SAY :  hi\n",
      "Server to Client : helo\n",
      "Connection Closed\n",
      "Waiting For The Client..............\n",
      "Connected :  IP :192.168.43.230 Port : 53102\n",
      "Connection Closed\n",
      "Waiting For The Client..............\n"
     ]
    }
   ],
   "source": [
    "import  socket\n",
    "\n",
    "s = socket.socket()\n",
    "host =  \"192.168.43.230\"\n",
    "port = 9999\n",
    "s.bind((host,port))\n",
    "s.listen(3)\n",
    "def fun():\n",
    "        print(\"Waiting For The Client..............\")\n",
    "        global conn\n",
    "        global addr\n",
    "        conn,addr = s.accept()\n",
    "        print(\"Connected : \"+ \" IP :\" +addr[0] + \" Port : \"+str(addr[1]))\n",
    "        conn.send(bytes('I am ready for your service','utf-8')) \n",
    "fun()\n",
    "while True:\n",
    "    clientmsg = conn.recv(1024).decode()\n",
    "    if clientmsg == 'quit':\n",
    "        conn.send(bytes('Closed Connection','utf-8'))\n",
    "        conn.close()\n",
    "        print(\"Connection Closed\")\n",
    "        fun()\n",
    "    else:    \n",
    "        print(\"Client to Server SAY : \",clientmsg)\n",
    "        msg = input(\"Server to Client : \")\n",
    "        conn.send(bytes(msg,'utf-8'))"
   ]
  },
  {
   "cell_type": "code",
   "execution_count": null,
   "metadata": {},
   "outputs": [],
   "source": []
  },
  {
   "cell_type": "code",
   "execution_count": null,
   "metadata": {},
   "outputs": [],
   "source": []
  }
 ],
 "metadata": {
  "kernelspec": {
   "display_name": "Python 3",
   "language": "python",
   "name": "python3"
  },
  "language_info": {
   "codemirror_mode": {
    "name": "ipython",
    "version": 3
   },
   "file_extension": ".py",
   "mimetype": "text/x-python",
   "name": "python",
   "nbconvert_exporter": "python",
   "pygments_lexer": "ipython3",
   "version": "3.7.1"
  }
 },
 "nbformat": 4,
 "nbformat_minor": 2
}
