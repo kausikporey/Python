{
 "cells": [
  {
   "cell_type": "markdown",
   "metadata": {},
   "source": [
    "# Constructor"
   ]
  },
  {
   "cell_type": "code",
   "execution_count": 7,
   "metadata": {},
   "outputs": [
    {
     "name": "stdout",
     "output_type": "stream",
     "text": [
      "Mobile : redmi note 8\n"
     ]
    }
   ],
   "source": [
    "class mobile:\n",
    "    def __init__(self):\n",
    "        self.name = \"redmi note 8\"\n",
    "    def show(self):\n",
    "        print(\"Mobile :\",self.name)\n",
    "mob1 = mobile()        \n",
    "mob1.show()"
   ]
  },
  {
   "cell_type": "code",
   "execution_count": 20,
   "metadata": {},
   "outputs": [
    {
     "name": "stdout",
     "output_type": "stream",
     "text": [
      "Mobile : redmi note 8 /Ram : 8 /Internal Storage : 64 /Price : 10000\n"
     ]
    }
   ],
   "source": [
    "class mobile:\n",
    "    def __init__(self,ram,storage=64): #this storeage will take the value as default,we can also change the value in any object\n",
    "        self.ram  = ram\n",
    "        self.storage = storage\n",
    "        self.name = \"redmi note 8\"\n",
    "    def show(self,price=10000):\n",
    "        print(\"Mobile :\",self.name,\"/Ram :\",self.ram,\"/Internal Storage :\",self.storage,\"/Price :\",price)\n",
    "mob1 = mobile(8)        \n",
    "mob1.show()"
   ]
  },
  {
   "cell_type": "markdown",
   "metadata": {},
   "source": [
    "# Instance Variable"
   ]
  },
  {
   "cell_type": "code",
   "execution_count": 28,
   "metadata": {},
   "outputs": [],
   "source": [
    "class Mobile:\n",
    "    def __init__(self):\n",
    "        self.name = \"mi\"    #Instance Variable\n",
    "    def show(self):   #Instance Method\n",
    "        print(self.name)    #Instance Variable Access\n",
    "mob = Mobile()\n",
    "mob.show()"
   ]
  },
  {
   "cell_type": "markdown",
   "metadata": {},
   "source": [
    "Accessing Instance Variable Outside a Class"
   ]
  },
  {
   "cell_type": "code",
   "execution_count": 10,
   "metadata": {},
   "outputs": [
    {
     "name": "stdout",
     "output_type": "stream",
     "text": [
      "mi\n",
      "Oppo\n"
     ]
    }
   ],
   "source": [
    "class Mobile:\n",
    "    def __init__(self):\n",
    "        self.name = \"mi\"    #Instance Variable\n",
    "    def show(self):   #Instance Method\n",
    "        print(self.name)    #Instance Variable Access\n",
    "mob = Mobile()\n",
    "mob2 = Mobile()\n",
    "mob2.name = \"Oppo\"\n",
    "mob.show()#Accessing Variable Outside Class\n",
    "mob2.show()"
   ]
  },
  {
   "cell_type": "markdown",
   "metadata": {},
   "source": [
    "# Class Variable or Static Variable"
   ]
  },
  {
   "cell_type": "code",
   "execution_count": 11,
   "metadata": {},
   "outputs": [
    {
     "name": "stdout",
     "output_type": "stream",
     "text": [
      "Realme\n",
      "No\n",
      "No\n"
     ]
    }
   ],
   "source": [
    "class Mobile:\n",
    "    fp = \"Yes\"  #Static Variable\n",
    "    def __init__(self):\n",
    "        self.name = \"Realme\"\n",
    "    def show(self):\n",
    "        print(self.name)\n",
    "    @classmethod\n",
    "    def clas_method(cls):  # Static Class Method\n",
    "        print(cls.fp)   #Accessing Static Variable\n",
    "mob = Mobile() \n",
    "mob2 = Mobile()\n",
    "mob.show()\n",
    "Mobile.fp = \"No\"  #Accessing Variable Outside Class\n",
    "mob.clas_method()\n",
    "mob2.clas_method()"
   ]
  },
  {
   "cell_type": "markdown",
   "metadata": {},
   "source": [
    "# Namespace"
   ]
  },
  {
   "cell_type": "markdown",
   "metadata": {},
   "source": [
    "Map the name with object or instance variable"
   ]
  },
  {
   "cell_type": "markdown",
   "metadata": {},
   "source": [
    "# Accessor & Mutator"
   ]
  },
  {
   "cell_type": "code",
   "execution_count": 29,
   "metadata": {},
   "outputs": [
    {
     "name": "stdout",
     "output_type": "stream",
     "text": [
      "Realme V2\n"
     ]
    }
   ],
   "source": [
    "class Mobile:\n",
    "    def __init__(self):\n",
    "        self.model = \"Realme X2\"\n",
    "    def get_model(self):  #Accessor Method\n",
    "        print(self.model)\n",
    "    def set_model(self,m=\"Realme Poco\"):  #Mutator Method\n",
    "        self.model = m\n",
    "mob1 = Mobile()\n",
    "mob1.set_model(\"Realme V2\")\n",
    "mob1.get_model()"
   ]
  },
  {
   "cell_type": "markdown",
   "metadata": {},
   "source": [
    "# Class Method"
   ]
  },
  {
   "cell_type": "code",
   "execution_count": 27,
   "metadata": {},
   "outputs": [
    {
     "name": "stdout",
     "output_type": "stream",
     "text": [
      "Ram : 6 Rom : 64\n"
     ]
    }
   ],
   "source": [
    "class Mobile:\n",
    "    ram = 2\n",
    "    rom = 16\n",
    "    @classmethod\n",
    "    def class_method(cls,rom=64):\n",
    "        cls.rom = rom\n",
    "        cls.ram = 6\n",
    "        print(\"Ram :\",cls.ram,\"Rom :\",cls.rom)\n",
    "mob1 = Mobile()\n",
    "mob1.class_method()"
   ]
  },
  {
   "cell_type": "markdown",
   "metadata": {},
   "source": [
    "# Static Method "
   ]
  },
  {
   "cell_type": "code",
   "execution_count": 32,
   "metadata": {},
   "outputs": [
    {
     "name": "stdout",
     "output_type": "stream",
     "text": [
      "Welcome to Mumbai\n",
      "Ram : 12 Rom:  45\n"
     ]
    }
   ],
   "source": [
    "class Mobile:\n",
    "    @staticmethod\n",
    "    def show():\n",
    "        print(\"Welcome to Mumbai\")\n",
    "    @staticmethod    \n",
    "    def view(f1,f2):\n",
    "        ram = f1 \n",
    "        rom = f2\n",
    "        print(\"Ram :\",f1,\"Rom: \",f2)\n",
    "mob1 = Mobile()\n",
    "mob1.show()\n",
    "mob1.view(12,45)"
   ]
  },
  {
   "cell_type": "markdown",
   "metadata": {},
   "source": [
    "# Passing Member of one class to another class"
   ]
  },
  {
   "cell_type": "code",
   "execution_count": 41,
   "metadata": {},
   "outputs": [
    {
     "name": "stdout",
     "output_type": "stream",
     "text": [
      "User Name : Kausik\n",
      "User Id : 101\n",
      "Student Name : Kausik\n",
      "Student Roll No : 101\n"
     ]
    }
   ],
   "source": [
    "class student:\n",
    "    def __init__(self,n,r):\n",
    "        self.name = n\n",
    "        self.roll = r\n",
    "    def disp(self):\n",
    "        print(\"Student Name :\",self.name)\n",
    "        print(\"Student Roll No :\",self.roll)\n",
    "class User:\n",
    "    @staticmethod\n",
    "    def show(s):\n",
    "        print(\"User Name :\",s.name)\n",
    "        print(\"User Id :\",s.roll)\n",
    "        s.disp()\n",
    "stu = student('Kausik',101)\n",
    "us1 = User()\n",
    "us1.show(stu)"
   ]
  },
  {
   "cell_type": "markdown",
   "metadata": {},
   "source": [
    "# Nested Class"
   ]
  },
  {
   "cell_type": "code",
   "execution_count": 53,
   "metadata": {},
   "outputs": [
    {
     "name": "stdout",
     "output_type": "stream",
     "text": [
      "Person Name  : Rahul\n",
      "Gun : Ak47 Capacity : High\n"
     ]
    }
   ],
   "source": [
    "class Army:\n",
    "    def __init__(self):\n",
    "        self.name = 'Rahul'\n",
    "        self.gn = self.Gun()   #inner class object inside class\n",
    "    def show(self):\n",
    "        print(\"Person Name  :\",self.name)\n",
    "        self.gn.show()\n",
    "    class Gun:\n",
    "        def __init__(self):\n",
    "            self.name = 'Ak47'\n",
    "            self.capacity = 'High'\n",
    "        def show(self):\n",
    "            print(\"Gun :\",self.name,\"Capacity :\",self.capacity)\n",
    "a = Army()\n",
    "a.show()\n",
    "g = Army().Gun()   #inner class object outside class"
   ]
  },
  {
   "cell_type": "markdown",
   "metadata": {},
   "source": [
    "# Inheritance : Constructor Overriding"
   ]
  },
  {
   "cell_type": "code",
   "execution_count": 69,
   "metadata": {},
   "outputs": [
    {
     "name": "stdout",
     "output_type": "stream",
     "text": [
      "5000\n",
      "Father Name : Joydev Money : 5000\n",
      "Roll No : 101 Money : 5000\n"
     ]
    }
   ],
   "source": [
    "class Father:\n",
    "    e = 20\n",
    "    def __init__(self):\n",
    "        self.money = 2000\n",
    "        self.name = 'Joydev'\n",
    "    def show(self):\n",
    "        print(\"Father Name :\",self.name,\"Money :\",self.money)\n",
    "class Son(Father):\n",
    "    def __init__(self):\n",
    "        super().__init__()   #Without this we cannot run the father class constructor and cannot access anything in father\n",
    "                             #class which is related with father class constructor\n",
    "        self.money = 5000\n",
    "        self.roll = 101\n",
    "    def disp(self):\n",
    "        print(\"Roll No :\",self.roll,\"Money :\",self.money)\n",
    "s = Son()\n",
    "print(s.money)\n",
    "s.show()\n",
    "s.disp()"
   ]
  },
  {
   "cell_type": "markdown",
   "metadata": {},
   "source": [
    "# Polymorphism"
   ]
  },
  {
   "cell_type": "markdown",
   "metadata": {},
   "source": [
    "1.Duck Typing"
   ]
  },
  {
   "cell_type": "code",
   "execution_count": 71,
   "metadata": {},
   "outputs": [
    {
     "name": "stdout",
     "output_type": "stream",
     "text": [
      "Duck Walk : Thapak thapak\n",
      "Horse Walk : Tagbak tagbak\n"
     ]
    }
   ],
   "source": [
    "class Horse:\n",
    "    def walk(self):\n",
    "        print(\"Horse Walk : Tagbak tagbak\")\n",
    "class Duck:\n",
    "    def walk(self):\n",
    "        print(\"Duck Walk : Thapak thapak\")\n",
    "def myfunction(obj):\n",
    "    obj.walk()\n",
    "d = Duck()\n",
    "h = Horse()\n",
    "myfunction(d)\n",
    "myfunction(h)\n"
   ]
  },
  {
   "cell_type": "markdown",
   "metadata": {},
   "source": [
    "2.Strong Typing"
   ]
  },
  {
   "cell_type": "code",
   "execution_count": 77,
   "metadata": {},
   "outputs": [
    {
     "name": "stdout",
     "output_type": "stream",
     "text": [
      "Duck Walk : Thapak thapak\n",
      "Duck speak : None\n",
      "Horse Walk : Tagbak tagbak\n",
      "Cat Speak : Mewo Mewo\n"
     ]
    }
   ],
   "source": [
    "class Horse:\n",
    "    def walk(self):\n",
    "        print(\"Horse Walk : Tagbak tagbak\")\n",
    "class Duck:\n",
    "    def walk(self):\n",
    "        print(\"Duck Walk : Thapak thapak\")\n",
    "    def talk(self):\n",
    "        print(\"Duck speak : None\")    \n",
    "class Cat:\n",
    "    def talk(self):\n",
    "        print(\"Cat Speak : Mewo Mewo\")\n",
    "def myfunction(obj):     #this only takes the argument from which class it's does not depends\n",
    "    if hasattr(obj,'walk'):\n",
    "        obj.walk()\n",
    "    if hasattr(obj,'talk'):\n",
    "        obj.talk()\n",
    "d = Duck()\n",
    "h = Horse()\n",
    "c = Cat()\n",
    "myfunction(d)\n",
    "myfunction(h)\n",
    "myfunction(c)"
   ]
  },
  {
   "cell_type": "markdown",
   "metadata": {},
   "source": [
    "3.Method Overloading"
   ]
  },
  {
   "cell_type": "code",
   "execution_count": 82,
   "metadata": {},
   "outputs": [
    {
     "name": "stdout",
     "output_type": "stream",
     "text": [
      "Provide at least two number\n"
     ]
    }
   ],
   "source": [
    "class MyClass:\n",
    "    def sum(self,a=None,b=None,c=None):\n",
    "        if a!=None and b!=None and c!=None:\n",
    "            s = a+b+c\n",
    "            print(\"Summation of three no is :\",s)\n",
    "        elif a!=None and b!=None:\n",
    "            s = a*b\n",
    "            print(\"multiplication of two no is :\",s)\n",
    "        else:\n",
    "            print(\"Provide at least two number\")\n",
    "obj = MyClass()\n",
    "obj.sum(6)"
   ]
  },
  {
   "cell_type": "markdown",
   "metadata": {},
   "source": [
    "4.Method Overriding"
   ]
  },
  {
   "cell_type": "code",
   "execution_count": 86,
   "metadata": {},
   "outputs": [
    {
     "name": "stdout",
     "output_type": "stream",
     "text": [
      "Addition : 9\n",
      "Multiplication : 20\n"
     ]
    }
   ],
   "source": [
    "class Add:\n",
    "    def result(self,a,b):\n",
    "        print(\"Addition :\",a+b)\n",
    "class Multi(Add):\n",
    "    def result(self,a,b):\n",
    "        super().result(a,b)\n",
    "        print(\"Multiplication :\",a*b)\n",
    "m = Multi()\n",
    "m.result(4,5)"
   ]
  },
  {
   "cell_type": "markdown",
   "metadata": {},
   "source": [
    "5.Operator Overloading"
   ]
  },
  {
   "cell_type": "code",
   "execution_count": 1,
   "metadata": {
    "tags": []
   },
   "outputs": [
    {
     "output_type": "stream",
     "name": "stdout",
     "text": "112\n9\n"
    }
   ],
   "source": [
    "class A:\n",
    "    def __init__(self,x):\n",
    "        self.x = x\n",
    "    def __add__(self,other):\n",
    "        s = self.x + other.x\n",
    "        return s\n",
    "class B:\n",
    "    def __init__(self,x):\n",
    "        self.x = x\n",
    "a = A(100)\n",
    "b = B(12)\n",
    "print(a+b)   #called A.__add__(self,other)\n",
    "             #print(10+20)   called int.__add__(self=10,other=20)"
   ]
  },
  {
   "cell_type": "markdown",
   "metadata": {},
   "source": [
    "# Abstract Class"
   ]
  },
  {
   "cell_type": "code",
   "execution_count": 95,
   "metadata": {},
   "outputs": [
    {
     "name": "stdout",
     "output_type": "stream",
     "text": [
      "Area : Land\n",
      "Gun : AK47\n"
     ]
    }
   ],
   "source": [
    "from abc import ABC,abstractmethod\n",
    "class Father(ABC):    #abstractclass\n",
    "    @abstractmethod\n",
    "    def area(self):  #abstractmethod\n",
    "        pass\n",
    "    def gun(self):  #concretemethod\n",
    "        print(\"Gun : AK47\")\n",
    "class Child(Father):\n",
    "    def area(self):   #definition of abstractmethod\n",
    "        print(\"Area : Land\")\n",
    "c = Child()\n",
    "c.area()\n",
    "c.gun()"
   ]
  },
  {
   "cell_type": "markdown",
   "metadata": {},
   "source": [
    "# Interface : Abstract Class without any concrete method"
   ]
  },
  {
   "cell_type": "code",
   "execution_count": 96,
   "metadata": {},
   "outputs": [
    {
     "name": "stdout",
     "output_type": "stream",
     "text": [
      "Gun : AK47\n",
      "Area : Air\n",
      "Gun : Car98\n"
     ]
    }
   ],
   "source": [
    "class Defence(ABC):\n",
    "    def gun(self):\n",
    "        pass\n",
    "    def area(self):\n",
    "        pass\n",
    "class Army(Defence):\n",
    "    def gun(self):\n",
    "        print(\"Gun : AK47\")\n",
    "    def area(Self):\n",
    "        print(\"Area : Land\")\n",
    "class AirForce(Defence):\n",
    "    def gun(self):\n",
    "        print(\"Gun : DP\")\n",
    "    def area(Self):\n",
    "        print(\"Area : Air\")\n",
    "class Navy(Defence):\n",
    "    def gun(self):\n",
    "        print(\"Gun : Car98\")\n",
    "    def area(Self):\n",
    "        print(\"Area : Water\") \n",
    "a = Army()\n",
    "af = AirForce()\n",
    "n = Navy()\n",
    "a.gun()\n",
    "af.area()\n",
    "n.gun()"
   ]
  },
  {
   "cell_type": "markdown",
   "metadata": {},
   "source": [
    "# Time Module"
   ]
  },
  {
   "cell_type": "code",
   "execution_count": 100,
   "metadata": {},
   "outputs": [
    {
     "name": "stdout",
     "output_type": "stream",
     "text": [
      "1595992540.729445\n",
      "Wed Jul 29 08:45:40 2020\n"
     ]
    }
   ],
   "source": [
    "from time import *\n",
    "epoch = time()   #epoch time starts from the start of a year as second\n",
    "print(epoch)\n",
    "ct = ctime(epoch) #convert epoch time to simple datetime format\n",
    "print(ct)"
   ]
  },
  {
   "cell_type": "code",
   "execution_count": 101,
   "metadata": {},
   "outputs": [
    {
     "name": "stdout",
     "output_type": "stream",
     "text": [
      "Wed Jul 29 08:45:43 2020\n"
     ]
    }
   ],
   "source": [
    "print(ctime())"
   ]
  },
  {
   "cell_type": "code",
   "execution_count": 102,
   "metadata": {},
   "outputs": [
    {
     "name": "stdout",
     "output_type": "stream",
     "text": [
      "time.struct_time(tm_year=2020, tm_mon=7, tm_mday=29, tm_hour=8, tm_min=46, tm_sec=47, tm_wday=2, tm_yday=211, tm_isdst=0)\n"
     ]
    }
   ],
   "source": [
    "stobj = localtime()   #this gives the all value reated to time\n",
    "print(stobj)"
   ]
  },
  {
   "cell_type": "code",
   "execution_count": 108,
   "metadata": {},
   "outputs": [
    {
     "name": "stdout",
     "output_type": "stream",
     "text": [
      "2020\n",
      "8\n"
     ]
    }
   ],
   "source": [
    "print(stobj.tm_year)\n",
    "print(stobj.tm_hour)"
   ]
  },
  {
   "cell_type": "markdown",
   "metadata": {},
   "source": [
    "# Datetime Module"
   ]
  },
  {
   "cell_type": "markdown",
   "metadata": {},
   "source": [
    "2.Datetime Class"
   ]
  },
  {
   "cell_type": "code",
   "execution_count": 127,
   "metadata": {},
   "outputs": [
    {
     "name": "stdout",
     "output_type": "stream",
     "text": [
      "2020-07-29 09:24:22.000022\n",
      "2020-07-29 12:45:22.001200\n",
      "2020\n"
     ]
    }
   ],
   "source": [
    "from datetime import datetime\n",
    "dt = datetime(year = 2020,month = 7,day = 29,hour = 9,minute = 24,second = 22,microsecond = 22)\n",
    "dt2 = datetime(2020,7,29,12,45,22,1200)\n",
    "print(dt)\n",
    "print(dt2)\n",
    "print(dt.year)"
   ]
  },
  {
   "cell_type": "code",
   "execution_count": 118,
   "metadata": {},
   "outputs": [
    {
     "name": "stdout",
     "output_type": "stream",
     "text": [
      "2020-07-29 09:27:12.901901\n",
      "9\n"
     ]
    }
   ],
   "source": [
    "dt3 = datetime.now()\n",
    "print(dt3)\n",
    "print(dt3.hour)"
   ]
  },
  {
   "cell_type": "code",
   "execution_count": 121,
   "metadata": {},
   "outputs": [
    {
     "name": "stdout",
     "output_type": "stream",
     "text": [
      "2020-07-29 09:28:21.391928\n"
     ]
    }
   ],
   "source": [
    "dt4 = datetime.today()\n",
    "print(dt4)"
   ]
  },
  {
   "cell_type": "markdown",
   "metadata": {},
   "source": [
    "2.Date Class"
   ]
  },
  {
   "cell_type": "code",
   "execution_count": 126,
   "metadata": {},
   "outputs": [
    {
     "name": "stdout",
     "output_type": "stream",
     "text": [
      "2020-05-20\n",
      "2020-07-29\n"
     ]
    }
   ],
   "source": [
    "from datetime import date\n",
    "dt = date(2020,5,20)\n",
    "print(dt)\n",
    "dt2 = date.today()\n",
    "print(dt2)"
   ]
  },
  {
   "cell_type": "markdown",
   "metadata": {},
   "source": [
    "3.Time Class"
   ]
  },
  {
   "cell_type": "code",
   "execution_count": 134,
   "metadata": {},
   "outputs": [
    {
     "name": "stdout",
     "output_type": "stream",
     "text": [
      "21:45:32.120000\n"
     ]
    }
   ],
   "source": [
    "from datetime import time\n",
    "t = time(21,45,32,120000)\n",
    "print(t)"
   ]
  },
  {
   "cell_type": "markdown",
   "metadata": {},
   "source": [
    "4.Timedelta Class"
   ]
  },
  {
   "cell_type": "code",
   "execution_count": 136,
   "metadata": {},
   "outputs": [
    {
     "name": "stdout",
     "output_type": "stream",
     "text": [
      "2020-08-13\n"
     ]
    }
   ],
   "source": [
    "from datetime import timedelta,date\n",
    "d = timedelta(days=15)\n",
    "td = date.today()\n",
    "print(d+td)"
   ]
  },
  {
   "cell_type": "markdown",
   "metadata": {},
   "source": [
    "Formatting Date and Time"
   ]
  },
  {
   "cell_type": "code",
   "execution_count": 147,
   "metadata": {},
   "outputs": [
    {
     "name": "stdout",
     "output_type": "stream",
     "text": [
      "2020-07-29 09:56:02.423950\n",
      "Wed Jul 20\n",
      "Wednesday July 2020\n",
      "29 07 2020\n",
      "09:56:02\n"
     ]
    }
   ],
   "source": [
    "from datetime import datetime\n",
    "dt = datetime.today()\n",
    "print(dt)\n",
    "newd1 = dt.strftime(\"%a %b %y\")\n",
    "print(newd1)\n",
    "newd2 = dt.strftime(\"%A %B %Y\")\n",
    "print(newd2)\n",
    "newd3 = dt.strftime(\"%d %m %Y\")\n",
    "print(newd3)\n",
    "time = dt.strftime(\"%H:%M:%S\")\n",
    "print(time)"
   ]
  },
  {
   "cell_type": "markdown",
   "metadata": {},
   "source": [
    "# Multithreading"
   ]
  },
  {
   "cell_type": "markdown",
   "metadata": {},
   "source": [
    "Constructor in Thread Class"
   ]
  },
  {
   "cell_type": "code",
   "execution_count": 162,
   "metadata": {},
   "outputs": [
    {
     "name": "stdout",
     "output_type": "stream",
     "text": [
      "Child Class Constructor : 10\n",
      "Running Method\n"
     ]
    }
   ],
   "source": [
    "from threading import Thread\n",
    "class MyThread(Thread):\n",
    "    def __init__(self,a):\n",
    "        Thread.__init__(self)\n",
    "        print(\"Child Class Constructor :\",a)\n",
    "    def run(self):\n",
    "        print(\"Running Method\")\n",
    "t = MyThread(10)\n",
    "t.start()"
   ]
  },
  {
   "cell_type": "markdown",
   "metadata": {},
   "source": [
    "Creating a thread class without creating a child class to thread class"
   ]
  },
  {
   "cell_type": "code",
   "execution_count": 168,
   "metadata": {},
   "outputs": [
    {
     "name": "stdout",
     "output_type": "stream",
     "text": [
      "Summation : 7\n"
     ]
    }
   ],
   "source": [
    "class MyClass:\n",
    "    def disp(self,a,b):\n",
    "        print(\"Summation :\",a+b)\n",
    "obj = MyClass()\n",
    "t = Thread(target = obj.disp,args=(2,5))\n",
    "t.start()"
   ]
  },
  {
   "cell_type": "markdown",
   "metadata": {},
   "source": [
    "Single Tasking"
   ]
  },
  {
   "cell_type": "code",
   "execution_count": 170,
   "metadata": {},
   "outputs": [
    {
     "name": "stdout",
     "output_type": "stream",
     "text": [
      "Solving Question 1\n",
      "Question 1 Solved\n",
      "Solving Question 2\n",
      "Question 2 Solved\n",
      "Solving Question 3\n",
      "Question 3 Solved\n"
     ]
    }
   ],
   "source": [
    "class MyExam:\n",
    "    def solvequestion(self):\n",
    "        self.q1()\n",
    "        self.q2()\n",
    "        self.q3()\n",
    "    def q1(self):\n",
    "        print(\"Solving Question 1\")\n",
    "        sleep(5)\n",
    "        print(\"Question 1 Solved\")\n",
    "        sleep(1)\n",
    "    def q3(self):\n",
    "        print(\"Solving Question 3\")\n",
    "        sleep(5)\n",
    "        print(\"Question 3 Solved\")\n",
    "        sleep(1)\n",
    "    def q2(self):\n",
    "        print(\"Solving Question 2\")\n",
    "        sleep(5)\n",
    "        print(\"Question 2 Solved\")\n",
    "        sleep(1) \n",
    "obj = MyExam()\n",
    "t = Thread(target = obj.solvequestion)\n",
    "t.start()"
   ]
  },
  {
   "cell_type": "markdown",
   "metadata": {},
   "source": [
    "Multitasking using two thread"
   ]
  },
  {
   "cell_type": "code",
   "execution_count": 191,
   "metadata": {},
   "outputs": [
    {
     "name": "stdout",
     "output_type": "stream",
     "text": [
      "Take Order from table no  1\n",
      "Serve Order at table no  1\n",
      "Take Order from table no  2\n",
      "Serve Order at table no  2\n",
      "Take Order from table no  3\n",
      "Serve Order at table no  3\n",
      "Take Order from table no  4\n",
      "Serve Order at table no  4\n",
      "Take Order from table no  5\n",
      "Serve Order at table no  5\n"
     ]
    }
   ],
   "source": [
    "class Hotel:\n",
    "    def __init__(self,t):\n",
    "        self.t = t\n",
    "    def serve(self):\n",
    "        for i in range(1,6):\n",
    "            print(self.t,i)\n",
    "            sleep(1)\n",
    "h1 = Hotel('Take Order from table no ')  \n",
    "h2 = Hotel('Serve Order at table no ')\n",
    "t1 = Thread(target=h1.serve)\n",
    "t2 = Thread(target=h2.serve)\n",
    "t1.start()\n",
    "t2.start()"
   ]
  },
  {
   "cell_type": "markdown",
   "metadata": {},
   "source": [
    "Race Condition"
   ]
  },
  {
   "cell_type": "code",
   "execution_count": 218,
   "metadata": {},
   "outputs": [
    {
     "name": "stdout",
     "output_type": "stream",
     "text": [
      "Available Seats : 1\n",
      "Congratulation! 1 seat is alloted for passanger Rahul\n",
      "Available Seats : 0\n",
      "Sorry! ,1 seat is not available for Soham\n"
     ]
    }
   ],
   "source": [
    "class Flight:\n",
    "    def __init__(self,availableseat):\n",
    "        self.availableseat = availableseat\n",
    "    def reserve(self,needseat):\n",
    "        print(\"Available Seats :\",self.availableseat)\n",
    "        if(needseat <= self.availableseat):\n",
    "            name = current_thread().name\n",
    "            print(f\"Congratulation! {needseat} seat is alloted for passanger {name}\")\n",
    "            self.availableseat -= needseat\n",
    "        else:\n",
    "            name = current_thread().name\n",
    "            print(f\"Sorry! ,{needseat} seat is not available for {name}\")\n",
    "f = Flight(1)\n",
    "t1 = Thread(target = f.reserve,args=(1,),name = 'Rahul')\n",
    "t2 = Thread(target = f.reserve,args=(1,),name = 'Soham')\n",
    "t1.start()\n",
    "t2.start()"
   ]
  },
  {
   "cell_type": "markdown",
   "metadata": {},
   "source": [
    "# Thread Synchronization"
   ]
  },
  {
   "cell_type": "markdown",
   "metadata": {},
   "source": [
    "1.Locks : Prevent the race condition"
   ]
  },
  {
   "cell_type": "code",
   "execution_count": 244,
   "metadata": {},
   "outputs": [
    {
     "name": "stdout",
     "output_type": "stream",
     "text": [
      "Available Seats : 2\n",
      "Congratulation! 1 seat is alloted for passanger Sayan\n",
      "Available Seats : 1\n",
      "Congratulation! 1 seat is alloted for passanger Rahul\n",
      "Available Seats : 0\n",
      "Sorry! ,1 seat is not available for Soham\n"
     ]
    }
   ],
   "source": [
    "class Flight:\n",
    "    def __init__(self,availableseat):\n",
    "        self.availableseat = availableseat\n",
    "        self.l = Lock()\n",
    "    def reserve(self,needseat):  #when one thread get access to this object other thread cannot access untill the previous thread completed\n",
    "        self.l.acquire(blocking=True,timeout=2)  #timeout means when one thread takes more than 2 sec other thread can access the object\n",
    "        print(\"Available Seats :\",self.availableseat)\n",
    "        if(needseat <= self.availableseat):\n",
    "            name = current_thread().name\n",
    "            print(f\"Congratulation! {needseat} seat is alloted for passanger {name}\")\n",
    "            self.availableseat -= needseat\n",
    "        else:\n",
    "            name = current_thread().name\n",
    "            print(f\"Sorry! ,{needseat} seat is not available for {name}\")\n",
    "        self.l.release()    #This release the lock of the thread \n",
    "f = Flight(2)\n",
    "t1 = Thread(target = f.reserve,args=(1,),name = 'Rahul')\n",
    "t2 = Thread(target = f.reserve,args=(1,),name = 'Soham')\n",
    "t3 = Thread(target = f.reserve,args=(1,),name = 'Sayan')\n",
    "t3.start()\n",
    "t1.start()\n",
    "t2.start()"
   ]
  },
  {
   "cell_type": "markdown",
   "metadata": {},
   "source": [
    "2.RLock  : It will lock a object for a particular thread when many thread at the same time try to access the object.\n",
    "           Until it unlocks the object for the thread other thread cannot access the object"
   ]
  },
  {
   "cell_type": "code",
   "execution_count": 250,
   "metadata": {},
   "outputs": [
    {
     "name": "stdout",
     "output_type": "stream",
     "text": [
      "<unlocked _thread.RLock object owner=0 count=0 at 0x000001B028EA9760>\n",
      "<locked _thread.RLock object owner=12236 count=1 at 0x000001B028EA9760>\n",
      "Available Seats : 2\n",
      "Congratulation! 1 seat is alloted for passanger Sayan\n",
      "<unlocked _thread.RLock object owner=0 count=0 at 0x000001B028EA9760>\n",
      "<locked _thread.RLock object owner=13240 count=1 at 0x000001B028EA9760>\n",
      "Available Seats : 1\n",
      "Congratulation! 1 seat is alloted for passanger Rahul\n",
      "<unlocked _thread.RLock object owner=0 count=0 at 0x000001B028EA9760>\n",
      "<locked _thread.RLock object owner=11984 count=1 at 0x000001B028EA9760>\n",
      "Available Seats : 0\n",
      "Sorry! ,1 seat is not available for Soham\n",
      "<unlocked _thread.RLock object owner=0 count=0 at 0x000001B028EA9760>\n"
     ]
    }
   ],
   "source": [
    "class Flight:\n",
    "    def __init__(self,availableseat):\n",
    "        self.availableseat = availableseat\n",
    "        self.l = RLock()\n",
    "        print(self.l)\n",
    "    def reserve(self,needseat): \n",
    "        self.l.acquire(blocking=True,timeout=2) \n",
    "        print(self.l)\n",
    "        print(\"Available Seats :\",self.availableseat)\n",
    "        if(needseat <= self.availableseat):\n",
    "            name = current_thread().name\n",
    "            print(f\"Congratulation! {needseat} seat is alloted for passanger {name}\")\n",
    "            self.availableseat -= needseat\n",
    "        else:\n",
    "            name = current_thread().name\n",
    "            print(f\"Sorry! ,{needseat} seat is not available for {name}\")\n",
    "        self.l.release()    \n",
    "        print(self.l)\n",
    "f = Flight(2)\n",
    "t1 = Thread(target = f.reserve,args=(1,),name = 'Rahul')\n",
    "t2 = Thread(target = f.reserve,args=(1,),name = 'Soham')\n",
    "t3 = Thread(target = f.reserve,args=(1,),name = 'Sayan')\n",
    "t3.start()\n",
    "t1.start()\n",
    "t2.start()"
   ]
  },
  {
   "cell_type": "markdown",
   "metadata": {},
   "source": [
    "3.Semaphore : we can limit the thread for a particular object."
   ]
  },
  {
   "cell_type": "code",
   "execution_count": 263,
   "metadata": {},
   "outputs": [
    {
     "name": "stdout",
     "output_type": "stream",
     "text": [
      "Available Seats : 3\n",
      "Congratulation! 1 seat is alloted for passanger Sayan\n",
      "Available Seats : 2\n",
      "Congratulation! 1 seat is alloted for passanger Rahul\n",
      "Available Seats : 1\n",
      "Congratulation! 1 seat is alloted for passanger Yuva\n",
      "Available Seats : 0\n",
      "Sorry! ,1 seat is not available for Soham\n"
     ]
    }
   ],
   "source": [
    "class Flight:\n",
    "    def __init__(self,availableseat):\n",
    "        self.availableseat = availableseat\n",
    "        self.l = BoundedSemaphore(2)    #Means two thread at the same time can run the object\n",
    "    def reserve(self,needseat): \n",
    "        self.l.acquire(blocking=True,timeout=2) \n",
    "        print(\"Available Seats :\",self.availableseat)\n",
    "        if(needseat <= self.availableseat):\n",
    "            name = current_thread().name\n",
    "            print(f\"Congratulation! {needseat} seat is alloted for passanger {name}\")\n",
    "            self.availableseat -= needseat\n",
    "        else:\n",
    "            name = current_thread().name\n",
    "            print(f\"Sorry! ,{needseat} seat is not available for {name}\")\n",
    "        self.l.release()    \n",
    "f = Flight(3)\n",
    "t1 = Thread(target = f.reserve,args=(1,),name = 'Rahul')\n",
    "t2 = Thread(target = f.reserve,args=(1,),name = 'Soham')\n",
    "t3 = Thread(target = f.reserve,args=(1,),name = 'Sayan')\n",
    "t4 = Thread(target = f.reserve,args=(1,),name = 'Yuva')\n",
    "t3.start()\n",
    "t1.start()\n",
    "t4.start()\n",
    "t2.start()"
   ]
  },
  {
   "cell_type": "markdown",
   "metadata": {},
   "source": [
    "# Thread Communication"
   ]
  },
  {
   "cell_type": "markdown",
   "metadata": {},
   "source": [
    "1.Event"
   ]
  },
  {
   "cell_type": "code",
   "execution_count": 3,
   "metadata": {},
   "outputs": [
    {
     "name": "stdout",
     "output_type": "stream",
     "text": [
      "Green Light ON\n",
      "...You Can Go...\n",
      "\n",
      "...You Can Go...\n",
      "...You Can Go...\n",
      "...You Can Go...\n",
      "...You Can Go...\n",
      "Red Light ON\n",
      "Program Done\n"
     ]
    }
   ],
   "source": [
    "from threading import Thread,Event\n",
    "from time import sleep\n",
    "def trafficlight():\n",
    "        sleep(3)\n",
    "        e.set()   #set the wait method. e.wait() will be true after running this.\n",
    "        print(\"Green Light ON\\n\")\n",
    "        sleep(5)\n",
    "        print(\"Red Light ON\")\n",
    "        e.clear()  #Reset the wait method. e.wait() will be false after running this.\n",
    "def traffic():\n",
    "    e.wait()  #wait for thread t1's set method\n",
    "    while e.is_set():\n",
    "        print(\"...You Can Go...\")\n",
    "        sleep(1)    \n",
    "    print(\"Program Done\")\n",
    "e = Event()    \n",
    "t1 = Thread(target = trafficlight)\n",
    "t2 = Thread(target=traffic)\n",
    "t1.start()\n",
    "t2.start()"
   ]
  },
  {
   "cell_type": "markdown",
   "metadata": {},
   "source": [
    "2.Condition"
   ]
  },
  {
   "cell_type": "code",
   "execution_count": 5,
   "metadata": {},
   "outputs": [
    {
     "name": "stdout",
     "output_type": "stream",
     "text": [
      "Item Produced\n",
      "Item Produced\n",
      "Item Produced\n",
      "Item Produced\n",
      "Item Produced\n",
      "[1, 2, 3, 4, 5]\n"
     ]
    }
   ],
   "source": [
    "from threading import Thread,Condition\n",
    "lst = []\n",
    "def produce():\n",
    "    cv.acquire()  #lock the object for a particular thread\n",
    "    for i in range(1,6):\n",
    "        lst.append(i)\n",
    "        sleep(1)\n",
    "        print(\"Item Produced\")\n",
    "    cv.notify()  #this notify the wait to be true\n",
    "    cv.release()  #unlock the thread for that object\n",
    "def consume():\n",
    "    cv.acquire()\n",
    "    cv.wait(timeout=0)  #wait for the thread t1's notify method\n",
    "    cv.release()\n",
    "    print(lst)\n",
    "cv = Condition()\n",
    "t1 = Thread(target=produce)\n",
    "t2 = Thread(target = consume)\n",
    "t1.start()\n",
    "t2.start()"
   ]
  },
  {
   "cell_type": "markdown",
   "metadata": {},
   "source": [
    "3.Queue"
   ]
  },
  {
   "cell_type": "code",
   "execution_count": 5,
   "metadata": {},
   "outputs": [
    {
     "name": "stdout",
     "output_type": "stream",
     "text": [
      "Item Produced  1\n",
      "Item Received  1\n",
      "Item Produced  2\n",
      "Item Received  2\n",
      "Item Produced  3\n",
      "Item Received  3\n",
      "Item Produced  4\n",
      "Item Received  4\n",
      "Item Produced  5\n",
      "Item Received  5\n"
     ]
    }
   ],
   "source": [
    "from threading import Thread\n",
    "from queue import Queue\n",
    "from time import sleep\n",
    "def produce():\n",
    "    for i in range(1,6):\n",
    "        print(\"Item Produced \",i)\n",
    "        q.put(i)  #this put the value into the queue\n",
    "        sleep(5)\n",
    "def consume():\n",
    "    for i in range(1,6):\n",
    "        print(\"Item Received \",q.get(i))  #this takes the value from the queue\n",
    "q = Queue()        \n",
    "t1 = Thread(target = produce)\n",
    "t2 = Thread(target = consume)\n",
    "t1.start()\n",
    "t2.start()"
   ]
  },
  {
   "cell_type": "markdown",
   "metadata": {},
   "source": [
    "# Daemon Thread"
   ]
  },
  {
   "cell_type": "code",
   "execution_count": 15,
   "metadata": {},
   "outputs": [
    {
     "name": "stdout",
     "output_type": "stream",
     "text": [
      "False\n",
      "True\n"
     ]
    }
   ],
   "source": [
    "def disp():\n",
    "    print(\"Daemon Thread\")\n",
    "t1 = Thread(target = disp)\n",
    "print(t1.daemon)    #check a thread is daemon or not(daemon property)\n",
    "t1.setDaemon(True)  #we can set a thread as daemon by using 't1.daemon = True'\n",
    "print(t1.isDaemon()) #check a thread is daemon or not(isDaemon method)"
   ]
  },
  {
   "cell_type": "markdown",
   "metadata": {},
   "source": [
    "To prove main thread is always running and it is a non-daemon thread"
   ]
  },
  {
   "cell_type": "code",
   "execution_count": 19,
   "metadata": {},
   "outputs": [
    {
     "name": "stdout",
     "output_type": "stream",
     "text": [
      "<_MainThread(MainThread, started 2292)>\n",
      "MainThread\n",
      "False\n"
     ]
    }
   ],
   "source": [
    "from threading import current_thread\n",
    "mt = current_thread()\n",
    "print(mt.getName())\n",
    "print(mt.daemon)"
   ]
  },
  {
   "cell_type": "markdown",
   "metadata": {},
   "source": [
    "To prove if main thread(parent thread) is a non-daemon thread it's child thread(t1,t2) will also a non-daemon thread"
   ]
  },
  {
   "cell_type": "code",
   "execution_count": 23,
   "metadata": {},
   "outputs": [
    {
     "name": "stdout",
     "output_type": "stream",
     "text": [
      "False\n",
      "False\n",
      "Hello I am A child thread of main thread and my name is  Thread-19\n"
     ]
    }
   ],
   "source": [
    "def show():\n",
    "    m = current_thread().getName()\n",
    "    print(\"Hello I am A child thread of main thread and my name is \",m)\n",
    "mt  = current_thread()\n",
    "print(mt.daemon)\n",
    "t1 = Thread(target = show)\n",
    "print(t1.daemon)\n",
    "t1.start()"
   ]
  },
  {
   "cell_type": "markdown",
   "metadata": {},
   "source": [
    "Parent thread(t1) is a daemon thread and it's child thread(t2) will also be a daemon thread"
   ]
  },
  {
   "cell_type": "code",
   "execution_count": 34,
   "metadata": {},
   "outputs": [
    {
     "name": "stdout",
     "output_type": "stream",
     "text": [
      "Main Thread Daemon State : False\n",
      "t1 Thread Daemon State : True\n",
      "Hello I am A child thread of main thread and my name is  Thread-40\n",
      "t2 Thread Daemon State : True\n",
      "I am a child thread of thread Thread-40 and my name is  Thread-41\n"
     ]
    }
   ],
   "source": [
    "def show():\n",
    "    global m\n",
    "    m = current_thread().getName()\n",
    "    print(\"Hello I am A child thread of main thread and my name is \",m)\n",
    "    t2 = Thread(target = disp)\n",
    "    print(\"t2 Thread Daemon State :\",t2.isDaemon())\n",
    "    t2.start()\n",
    "def disp():\n",
    "    v = current_thread().getName()\n",
    "    print(f\"I am a child thread of thread {m} and my name is \",v)\n",
    "mt  = current_thread()\n",
    "print(\"Main Thread Daemon State :\",mt.daemon)\n",
    "t1 = Thread(target = show)\n",
    "t1.setDaemon(True)\n",
    "print(\"t1 Thread Daemon State :\",t1.daemon)\n",
    "t1.start()"
   ]
  },
  {
   "cell_type": "markdown",
   "metadata": {},
   "source": [
    "When main thread(non-daemon) terminates it's supportive thread t1 will also be terminated"
   ]
  },
  {
   "cell_type": "code",
   "execution_count": 43,
   "metadata": {},
   "outputs": [
    {
     "name": "stdout",
     "output_type": "stream",
     "text": [
      "Teaching Session  1\n",
      "Teaching Session  2\n",
      "Teaching Session  3\n",
      "Teaching Session  4\n",
      "Teaching Session  5\n",
      "Teaching Session  6\n",
      "Exam Finished : MainThread\n",
      "Teaching Session  7\n",
      "Teaching Session  8\n",
      "Teaching Session  9\n",
      "Teaching Session  10\n"
     ]
    }
   ],
   "source": [
    "from threading import Thread,current_thread\n",
    "from time import sleep\n",
    "def teacher():\n",
    "    for i in range(1,11):\n",
    "        print(\"Teaching Session \",i)\n",
    "        sleep(1)\n",
    "t1 = Thread(target = teacher)\n",
    "t1.setDaemon(True)\n",
    "t1.start()\n",
    "sleep(6)\n",
    "print('Exam Finished :',current_thread().name)"
   ]
  },
  {
   "cell_type": "code",
   "execution_count": null,
   "metadata": {},
   "outputs": [],
   "source": []
  }
 ],
 "metadata": {
  "kernelspec": {
   "display_name": "Python 3.8.5 64-bit",
   "language": "python",
   "name": "python_defaultSpec_1597054069445"
  },
  "language_info": {
   "codemirror_mode": {
    "name": "ipython",
    "version": 3
   },
   "file_extension": ".py",
   "mimetype": "text/x-python",
   "name": "python",
   "nbconvert_exporter": "python",
   "pygments_lexer": "ipython3",
   "version": "3.7.1"
  }
 },
 "nbformat": 4,
 "nbformat_minor": 2
}