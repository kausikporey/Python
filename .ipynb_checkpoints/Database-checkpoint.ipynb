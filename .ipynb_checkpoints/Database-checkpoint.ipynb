{
 "cells": [
  {
   "cell_type": "code",
   "execution_count": 8,
   "metadata": {},
   "outputs": [
    {
     "name": "stdout",
     "output_type": "stream",
     "text": [
      "(1, 'Kausik', 'Porey')\n",
      "(3, 'Sayan', 'Singha')\n",
      "(4, 'Sayan', 'Singha')\n"
     ]
    }
   ],
   "source": [
    "import mysql.connector\n",
    "db = mysql.connector.connect(host=\"localhost\",user=\"root\",passwd=\"\",database=\"python\")\n",
    "mycursor = db.cursor()\n",
    "mycursor.execute(\"select * from student\")\n",
    "result = mycursor.fetchall()\n",
    "# result = mycursor.fetchone()   #this will only fetch the first data\n",
    "\n",
    "for i in result:\n",
    "    print(i)"
   ]
  },
  {
   "cell_type": "code",
   "execution_count": 7,
   "metadata": {},
   "outputs": [],
   "source": [
    "import mysql.connector\n",
    "db = mysql.connector.connect(host=\"localhost\",user=\"root\",passwd=\"\",database=\"python\")\n",
    "mycursor = db.cursor()\n",
    "mycursor.execute(\"INSERT INTO student (Name,Surname) VALUES ('Sayan','Singha')\")\n",
    "db.commit()\n",
    "db.close()"
   ]
  },
  {
   "cell_type": "code",
   "execution_count": 13,
   "metadata": {},
   "outputs": [
    {
     "name": "stdout",
     "output_type": "stream",
     "text": [
      "Sayan\n"
     ]
    }
   ],
   "source": [
    "print(result[2][1])"
   ]
  },
  {
   "cell_type": "code",
   "execution_count": 23,
   "metadata": {},
   "outputs": [
    {
     "name": "stdout",
     "output_type": "stream",
     "text": [
      "Enter your Name :Hi I Am kousik\n",
      "Welcome to Server\n"
     ]
    }
   ],
   "source": [
    "import socket\n",
    "\n",
    "c = socket.socket()\n",
    "\n",
    "c.connect(('localhost',9999))\n",
    "\n",
    "name = input(\"Enter your Name :\")\n",
    "c.send(bytes(name,'utf-8'))\n",
    "\n",
    "print(c.recv(1024).decode())"
   ]
  },
  {
   "cell_type": "code",
   "execution_count": null,
   "metadata": {},
   "outputs": [],
   "source": []
  },
  {
   "cell_type": "code",
   "execution_count": null,
   "metadata": {},
   "outputs": [],
   "source": []
  }
 ],
 "metadata": {
  "kernelspec": {
   "display_name": "Python 3",
   "language": "python",
   "name": "python3"
  },
  "language_info": {
   "codemirror_mode": {
    "name": "ipython",
    "version": 3
   },
   "file_extension": ".py",
   "mimetype": "text/x-python",
   "name": "python",
   "nbconvert_exporter": "python",
   "pygments_lexer": "ipython3",
   "version": "3.7.1"
  }
 },
 "nbformat": 4,
 "nbformat_minor": 2
}
