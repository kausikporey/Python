{
 "cells": [
  {
   "cell_type": "code",
   "execution_count": 5,
   "metadata": {},
   "outputs": [
    {
     "name": "stdout",
     "output_type": "stream",
     "text": [
      "I5, 16gb,1TB\n",
      "I5, 16gb,1TB\n"
     ]
    }
   ],
   "source": [
    "class Computer:\n",
    "    def config(self):\n",
    "        print(\"I5, 16gb,1TB\")\n",
    "com1 = Computer()\n",
    "Computer.config(com1)\n",
    "com2 = Computer()\n",
    "com2.config()\n",
    "        \n",
    "        "
   ]
  },
  {
   "cell_type": "code",
   "execution_count": 4,
   "metadata": {},
   "outputs": [
    {
     "name": "stdout",
     "output_type": "stream",
     "text": [
      "I5 1Tb 1gb\n"
     ]
    }
   ],
   "source": [
    "class Computer:\n",
    "    def __init__(self,cpu,ram):\n",
    "        self.cpu = cpu\n",
    "        self.ram = ram\n",
    "    def config(self):\n",
    "        print(\"I5\", self.ram,self.cpu)\n",
    "com1 = Computer('1gb','1Tb')\n",
    "com1.config()"
   ]
  },
  {
   "cell_type": "code",
   "execution_count": 13,
   "metadata": {},
   "outputs": [
    {
     "name": "stdout",
     "output_type": "stream",
     "text": [
      "They Are different\n"
     ]
    }
   ],
   "source": [
    "class Computer:\n",
    "    def __init__(self,cpu,ram):\n",
    "        self.cpu = cpu\n",
    "        self.ram = ram\n",
    "    def config(self):\n",
    "        \"I5\", self.ram,self.cpu\n",
    "    def compare(self,others):\n",
    "        if self.cpu  == others.cpu:\n",
    "            print(\"They Are Same\")\n",
    "        else:\n",
    "            print(\"They Are different\")\n",
    "com1 = Computer('1gb','1Tb')\n",
    "com1.config()\n",
    "com2 = Computer('2gb','4TB')\n",
    "com2.config()\n",
    "com1.compare(com2)"
   ]
  },
  {
   "cell_type": "code",
   "execution_count": 19,
   "metadata": {},
   "outputs": [
    {
     "name": "stdout",
     "output_type": "stream",
     "text": [
      "6 20 BMW\n",
      "6 10 BMW\n"
     ]
    }
   ],
   "source": [
    "class car:\n",
    "    wheel = 4   #class variable\n",
    "    \n",
    "    def __init__(self):\n",
    "        self.mil = 10       #instance variable\n",
    "        self.brand = \"BMW\"   #instance variable\n",
    "    def out(self):\n",
    "        print(self.wheel,self.mil,self.brand)\n",
    "        \n",
    "c1 = car()\n",
    "c2 = car()\n",
    "c1.mil = 20\n",
    "car.wheel=6\n",
    "c1.out()\n",
    "c2.out()\n",
    "        \n",
    "        "
   ]
  },
  {
   "cell_type": "code",
   "execution_count": 7,
   "metadata": {},
   "outputs": [
    {
     "name": "stdout",
     "output_type": "stream",
     "text": [
      "Mansuka\n",
      "Welcome to School\n",
      "23.5\n",
      "22 25\n",
      "42 85\n"
     ]
    }
   ],
   "source": [
    "class student:\n",
    "    school =\"Mansuka\"   #class variable\n",
    "    \n",
    "    def __init__(self,m1,m2):\n",
    "        self.m1 = m1       #instance variable\n",
    "        self.m2 = m2   #instance variable\n",
    "    def out(self):\n",
    "        print(self.m1,self.m2)\n",
    "    def avg(self):\n",
    "        return (self.m1+self.m2)/2\n",
    "    @classmethod    \n",
    "    def getSchool(cls):     #class method\n",
    "        return cls.school\n",
    "    @staticmethod\n",
    "    def info():             #static method\n",
    "        print(\"Welcome to School\")\n",
    "        \n",
    "        \n",
    "s1 = student(22,25)\n",
    "s2 = student(42,85)\n",
    "print(student.getSchool())\n",
    "student.info()\n",
    "print(s1.avg())\n",
    "s1.out()\n",
    "s2.out()\n",
    "        \n",
    "        "
   ]
  },
  {
   "cell_type": "markdown",
   "metadata": {},
   "source": [
    "INNER CLASS"
   ]
  },
  {
   "cell_type": "code",
   "execution_count": 57,
   "metadata": {},
   "outputs": [
    {
     "name": "stdout",
     "output_type": "stream",
     "text": [
      "Name : kausik and Roll no : 101\n",
      "Laptop Brand : DELL  Laptop Ram : 8gb\n",
      "Name : Dhruba and Roll no : 115\n",
      "Laptop Brand : DELL  Laptop Ram : 8gb\n"
     ]
    }
   ],
   "source": [
    "class student:\n",
    "    def __init__(self,name,rollno):\n",
    "        self.name = name\n",
    "        self.rollno = rollno\n",
    "        self.lap = self.Laptop()\n",
    "    def show(self):\n",
    "        print(\"Name :\",self.name + \" and Roll no :\",self.rollno )\n",
    "        self.lap.show()\n",
    "    class Laptop:\n",
    "        def __init__(self):\n",
    "            self.name = \"DELL\"\n",
    "            self.ram = \"8gb\"\n",
    "        def show(self):\n",
    "            print(\"Laptop Brand :\",self.name + \"  Laptop Ram :\",self.ram)\n",
    "s1 = student(\"kausik\",101)\n",
    "s2 = student(\"Dhruba\",115)\n",
    "s1.show()\n",
    "s2.show()"
   ]
  },
  {
   "cell_type": "markdown",
   "metadata": {},
   "source": [
    "INHERITANCE"
   ]
  },
  {
   "cell_type": "code",
   "execution_count": 60,
   "metadata": {},
   "outputs": [
    {
     "name": "stdout",
     "output_type": "stream",
     "text": [
      "Feature 1 is Working\n",
      "Feature 2 is Working\n",
      "Feature 3 is Working\n",
      "Feature 4 is Working\n"
     ]
    }
   ],
   "source": [
    "class A:\n",
    "    def feature1(self):\n",
    "        print(\"Feature 1 is Working\")\n",
    "    def feature2(self):\n",
    "        print(\"Feature 2 is Working\")    \n",
    "class B(A):\n",
    "    def feature3(self):\n",
    "        print(\"Feature 3 is Working\")\n",
    "    def feature4(self):\n",
    "        print(\"Feature 4 is Working\")\n",
    "a1 = A()\n",
    "b1 = B()\n",
    "\n",
    "b1.feature1()\n",
    "b1.feature2()\n",
    "b1.feature3()\n",
    "b1.feature4()\n",
    "    \n",
    "    \n",
    "        "
   ]
  },
  {
   "cell_type": "markdown",
   "metadata": {},
   "source": [
    "Multilevel Inheritance"
   ]
  },
  {
   "cell_type": "code",
   "execution_count": 64,
   "metadata": {},
   "outputs": [
    {
     "name": "stdout",
     "output_type": "stream",
     "text": [
      "Feature 1 is Working\n",
      "Feature 2 is Working\n",
      "Feature 3 is Working\n",
      "Feature 4 is Working\n",
      "Feature 5 is working\n"
     ]
    }
   ],
   "source": [
    "class A:\n",
    "    def feature1(self):\n",
    "        print(\"Feature 1 is Working\")\n",
    "    def feature2(self):\n",
    "        print(\"Feature 2 is Working\")    \n",
    "class B(A):\n",
    "    def feature3(self):\n",
    "        print(\"Feature 3 is Working\")\n",
    "    def feature4(self):\n",
    "        print(\"Feature 4 is Working\")\n",
    "class C(B):\n",
    "    def feature5(self):\n",
    "        print(\"Feature 5 is working\")\n",
    "a1 = A()\n",
    "b1 = B()\n",
    "c3 = C()\n",
    "\n",
    "c3.feature1()\n",
    "c3.feature2()\n",
    "c3.feature3()\n",
    "c3.feature4()\n",
    "c3.feature5()   "
   ]
  },
  {
   "cell_type": "code",
   "execution_count": 68,
   "metadata": {},
   "outputs": [
    {
     "name": "stdout",
     "output_type": "stream",
     "text": [
      "In A init\n",
      "In B init\n"
     ]
    }
   ],
   "source": [
    "class A:\n",
    "    def __init__(self):\n",
    "        print(\"In A init\")\n",
    "    def feature1(self):\n",
    "        print(\"Feature 1 is Working\")\n",
    "    def feature2(self):\n",
    "        print(\"Feature 2 is Working\")    \n",
    "class B(A):\n",
    "    def __init__(self):\n",
    "        super().__init__()\n",
    "        print(\"In B init\")\n",
    "    def feature3(self):\n",
    "        print(\"Feature 3 is Working\")\n",
    "    def feature4(self):\n",
    "        print(\"Feature 4 is Working\")\n",
    "\n",
    "a1 = B()"
   ]
  },
  {
   "cell_type": "code",
   "execution_count": 11,
   "metadata": {},
   "outputs": [
    {
     "name": "stdout",
     "output_type": "stream",
     "text": [
      "In B init\n",
      "In C init\n",
      "Feature 1-B is Working\n",
      "Feature 4 is Working\n"
     ]
    }
   ],
   "source": [
    "class A:\n",
    "    def __init__(self):\n",
    "        print(\"In A init\")\n",
    "    def feature1(self):\n",
    "        print(\"Feature 1-A is Working\")\n",
    "    def feature2(self):\n",
    "        print(\"Feature 2 is Working\")    \n",
    "class B:\n",
    "    def __init__(self):\n",
    "        print(\"In B init\")\n",
    "    def feature1(self):\n",
    "        print(\"Feature 1-B is Working\")\n",
    "    def feature2(self):\n",
    "        print(\"Feature 4 is Working\")\n",
    "class C(B,A):\n",
    "    def __init__(self):\n",
    "        super().__init__()\n",
    "        print(\"In C init\")\n",
    "    def feature5(self):\n",
    "        super().feature2()\n",
    "        \n",
    "a1 = C()    \n",
    "a1.feature1()\n",
    "a1.feature5()\n",
    "        "
   ]
  },
  {
   "cell_type": "markdown",
   "metadata": {},
   "source": [
    "POLYMORPHISM"
   ]
  },
  {
   "cell_type": "markdown",
   "metadata": {},
   "source": [
    "DUCK TYPING : "
   ]
  },
  {
   "cell_type": "code",
   "execution_count": 85,
   "metadata": {},
   "outputs": [
    {
     "name": "stdout",
     "output_type": "stream",
     "text": [
      "Execute\n"
     ]
    }
   ],
   "source": [
    "class Pycharm :\n",
    "    def execute(self):\n",
    "        print(\"Execute\")\n",
    "class MyEditor:\n",
    "    def execute(self):\n",
    "        print(\"Execute\")\n",
    "        print(\"Running\")\n",
    "class Laptop :\n",
    "    def execute(self,ide):\n",
    "        ide.execute()\n",
    "xyz = Pycharm()        \n",
    "lap1 = Laptop()\n",
    "lap1.execute(xyz)"
   ]
  },
  {
   "cell_type": "markdown",
   "metadata": {},
   "source": [
    "Operator Overloading:"
   ]
  },
  {
   "cell_type": "code",
   "execution_count": 86,
   "metadata": {},
   "outputs": [
    {
     "name": "stdout",
     "output_type": "stream",
     "text": [
      "11\n"
     ]
    }
   ],
   "source": [
    "a = 5\n",
    "b = 6\n",
    "print(int.__add__(a,b))"
   ]
  },
  {
   "cell_type": "code",
   "execution_count": 92,
   "metadata": {},
   "outputs": [
    {
     "name": "stdout",
     "output_type": "stream",
     "text": [
      "76\n"
     ]
    }
   ],
   "source": [
    "class student:\n",
    "    def __init__(self,m1,m2):\n",
    "        self.m1 = m1\n",
    "        self.m2 = m2\n",
    "    def __add__(self,other):\n",
    "        m1 = self.m1 + other.m1\n",
    "        m2 = self.m2 + other.m2\n",
    "        s3 = student(m1,m2)\n",
    "        return s3\n",
    "        \n",
    "    \n",
    "s1 = student(22,54)\n",
    "s2 = student(54,78)\n",
    "s3 = s1+s2\n",
    "print(s3.m1)"
   ]
  },
  {
   "cell_type": "markdown",
   "metadata": {},
   "source": [
    "Method Overloading : "
   ]
  },
  {
   "cell_type": "code",
   "execution_count": 104,
   "metadata": {},
   "outputs": [
    {
     "name": "stdout",
     "output_type": "stream",
     "text": [
      "21\n"
     ]
    }
   ],
   "source": [
    "class student:\n",
    "    def __init__(self,m1,m2):\n",
    "        self.m1 = m1\n",
    "        self.m2 = m2\n",
    "    def sum(self,a=None,b=None,c=None):\n",
    "        s = 0\n",
    "        if a!= None and b!=None and c!=None:\n",
    "            s = a+b+c\n",
    "        elif a!= None and b!=None:\n",
    "            s = a+b\n",
    "        else : \n",
    "            s=a\n",
    "        return s\n",
    "    \n",
    "s1 =student(22,78)\n",
    "print(s1.sum(5,7,9))"
   ]
  },
  {
   "cell_type": "markdown",
   "metadata": {},
   "source": [
    "Method Overriding"
   ]
  },
  {
   "cell_type": "code",
   "execution_count": 115,
   "metadata": {},
   "outputs": [
    {
     "name": "stdout",
     "output_type": "stream",
     "text": [
      "In A Show\n",
      "In B Show\n"
     ]
    }
   ],
   "source": [
    "class A:\n",
    "    def show(self):\n",
    "        print(\"In A Show\")\n",
    "class B(A):\n",
    "    def show(self):\n",
    "        super().show()\n",
    "        print(\"In B Show\")  \n",
    "a1 = B()\n",
    "a1.show()"
   ]
  },
  {
   "cell_type": "markdown",
   "metadata": {},
   "source": [
    "Iterator : "
   ]
  },
  {
   "cell_type": "code",
   "execution_count": 117,
   "metadata": {},
   "outputs": [
    {
     "name": "stdout",
     "output_type": "stream",
     "text": [
      "5\n"
     ]
    }
   ],
   "source": [
    "num = [5,7,8,9,10]\n",
    "it = iter(num)\n",
    "\n",
    "print(it.__next__())"
   ]
  },
  {
   "cell_type": "markdown",
   "metadata": {},
   "source": [
    "Generator : "
   ]
  },
  {
   "cell_type": "code",
   "execution_count": 122,
   "metadata": {},
   "outputs": [
    {
     "name": "stdout",
     "output_type": "stream",
     "text": [
      "1\n",
      "4\n",
      "9\n",
      "16\n",
      "25\n",
      "36\n",
      "49\n",
      "64\n",
      "81\n",
      "100\n"
     ]
    }
   ],
   "source": [
    "def topten():\n",
    "    n = 1\n",
    "    while n<=10:\n",
    "        sq = n*n\n",
    "        yield sq\n",
    "        n += 1\n",
    "    \n",
    "values = topten()\n",
    "for i in values:\n",
    "    print(i)"
   ]
  },
  {
   "cell_type": "markdown",
   "metadata": {},
   "source": [
    "Exception Handling : "
   ]
  },
  {
   "cell_type": "code",
   "execution_count": 12,
   "metadata": {},
   "outputs": [
    {
     "name": "stdout",
     "output_type": "stream",
     "text": [
      "Resource Opem\n",
      "1.25\n",
      "Resource Closed\n"
     ]
    }
   ],
   "source": [
    "a = 5\n",
    "b = 4\n",
    "try :\n",
    "    print(\"Resource Opem\")\n",
    "    print(a/b)\n",
    "except Exception as e:\n",
    "    print(\"Divided by Zero Error\",e)\n",
    "    \n",
    "finally:\n",
    "    print(\"Resource Closed\")"
   ]
  },
  {
   "cell_type": "code",
   "execution_count": 128,
   "metadata": {},
   "outputs": [
    {
     "name": "stdout",
     "output_type": "stream",
     "text": [
      "Resource Opem\n",
      "1.25\n",
      "Enter a Value :k\n",
      "Value Error : invalid literal for int() with base 10: 'k'\n",
      "Resource Closed\n"
     ]
    }
   ],
   "source": [
    "a = 5\n",
    "b = 4\n",
    "try :\n",
    "    print(\"Resource Opem\")\n",
    "    print(a/b)\n",
    "    k = int(input(\"Enter a Value :\"))\n",
    "    print(k)\n",
    "except ZeroDivisionError as e:\n",
    "    print(\"Divided by Zero Error : \",e)\n",
    "except ValueError as e:\n",
    "    print(\"Value Error :\",e)\n",
    "except Exception as e:\n",
    "    print(\"Invalid Input : \",e)\n",
    "    \n",
    "finally:\n",
    "    print(\"Resource Closed\")"
   ]
  },
  {
   "cell_type": "markdown",
   "metadata": {},
   "source": [
    "Multithreading :"
   ]
  },
  {
   "cell_type": "code",
   "execution_count": 13,
   "metadata": {},
   "outputs": [
    {
     "name": "stdout",
     "output_type": "stream",
     "text": [
      "Hello\n",
      "Hi\n",
      "Hello\n",
      "Hi\n",
      "Hello\n",
      "Hi\n",
      "Hello\n",
      "Hi\n",
      "Hello\n",
      "Hi\n",
      "Bye\n"
     ]
    }
   ],
   "source": [
    "from time import *\n",
    "from threading import *\n",
    "class Hello(Thread):\n",
    "    def run(self):\n",
    "        for i in range(1,6):\n",
    "            print(\"Hello\")\n",
    "            sleep(1)\n",
    "class Hi(Thread):\n",
    "    def run(self):\n",
    "        for i in range(1,6):\n",
    "            print(\"Hi\")\n",
    "            sleep(1)\n",
    "t1 = Hello()\n",
    "t2 = Hi()\n",
    "t1.start()\n",
    "sleep(0.02)\n",
    "t2.start()\n",
    "\n",
    "t1.join()     #after compliting the works t1 come back\n",
    "t2.join()     #after compliting the works t2 come back\n",
    "\n",
    "print(\"Bye\")  #after t1 and t2 come back main thread working"
   ]
  },
  {
   "cell_type": "markdown",
   "metadata": {},
   "source": [
    "File Handling:"
   ]
  },
  {
   "cell_type": "code",
   "execution_count": 20,
   "metadata": {},
   "outputs": [
    {
     "name": "stdout",
     "output_type": "stream",
     "text": [
      "My Name Is Kasuik Porey\n",
      "My father name is joydev porey\n",
      "my father is a farmer\n"
     ]
    }
   ],
   "source": [
    "f = open('MyFile.txt','r')\n",
    "print(f.read())"
   ]
  },
  {
   "cell_type": "code",
   "execution_count": 14,
   "metadata": {},
   "outputs": [
    {
     "name": "stdout",
     "output_type": "stream",
     "text": [
      "My Name Is Kasuik Porey\n",
      "My father name is joydev porey\n",
      "\n"
     ]
    }
   ],
   "source": [
    "f = open('MyFile.txt','r')\n",
    "print(f.readline(),end=\"\")\n",
    "print(f.readline())"
   ]
  },
  {
   "cell_type": "code",
   "execution_count": 2,
   "metadata": {},
   "outputs": [
    {
     "data": {
      "text/plain": [
       "8"
      ]
     },
     "execution_count": 2,
     "metadata": {},
     "output_type": "execute_result"
    }
   ],
   "source": [
    "f1 = open('MyFile','w')\n",
    "f1.write(\"Laptop k\")"
   ]
  },
  {
   "cell_type": "code",
   "execution_count": 1,
   "metadata": {
    "tags": [
     "outputPrepend"
    ]
   },
   "outputs": [
    {
     "output_type": "stream",
     "name": "stdout",
     "text": [
      "e;\\xb1j\\xac\\xaa\\xe8\\xde\\xfb\\x92:>A\\x86\\x0f\\x05\\xc0c\\xe3\\x10\\xf9\\tV\\xca\\xc42\\xd7@\\xf8y\\x02Pe\\xeb5\\xc4\\x0e\\xc3\\xc4\\xc4\\xd1V`\\x00wl\\xe8\\x1e\\xc3\\x95\\xfe\\x0c7\\xd7\\x89?\\xf0O\\x1dA\\xc0H\\n'\n",
      "b'l\\xe1\\xe7\\xb4\\xa0\\xfd\\xb9\\xb4\\xb3\\xb6d\\xbeQ\\x96/\\x94\\xfb@}\\x0e\\x00\\x19;\\xe2\\x986\\xea/\\xba\\xc1\\xfe\\xf8\\x91\\xb1\\xcd\\xcd\\\\\\xde\\xbf\\'k\\xc4\\xc74\\x16\\x9b\\xe2\\xe1\\xb5\\x0f\\xe6\\x197b\\x81\\xd8f\\x8e\"\\x17:\\xc7\\x82\\xe2\\xcaO\\x02\\x89\\xee\\xd3g\\xe2\\x03\\xdd\\xd2#\\x03\\xb5lI\\x9f\\xe41G`\\xc0N\\xfc\\xac\\xb2\\x9f2T\\x03\\xb6$\\x85\\x06/f(\\xb0%\\t@\\x97\\xd7=\\xd5M/\\xf9Y/\\xa0g~\\xa3g\\xea\\x82\\xbe\\xe3\\xd6\\xe1\\xd1\\xf7\\x99\\xcd\\x18[\\x0f\\xd7\\n'\n",
      "b\":*=\\x99\\xb3\\xf0\\xb3~\\x85\\x8f\\xf1\\xa6/)C\\x7f\\xbe\\xaeT\\x0f\\xf4\\x00s\\x18\\xfd\\xbe\\xb6\\x88&ky\\xec\\x8f]\\xc4\\x0f\\x10\\xbb\\xa1a\\x0c\\x90\\x9d\\xf9\\x99'\\xd7\\xe3\\x8b\\xa4\\xf2BG=0z\\xaf9s\\xcc\\x85\\x89S\\xeb;\\xfa\\xd6\\xbe\\x9b\\x9c\\xe6UW\\xde\\xbe\\xfc\\xcd\\xb0|\\xb6A}t\\xb2\\xddv\\xe3kpS\\x9f\\xfcq\\x9a\\xa1\\x98\\x14\\xcc}\\xb8gG\\xdd\\xf1\\x88\\x13\\x1e\\xc6\\x08V\\xd6H\\xf2\\x8e\\x8b\\xaf)\\xf2c\\xe5\\xa6O\\xc9i\\xcf|<\\xc7s\\x87\\x93:c\\xdc\\xfd\\x990\\x07\\xce\\xf3\\x99\\xfa\\x11W\\xe5!\\xe5PZm\\x18\\xef\\xfb\\xdb\\xcc\\x01\\xca\\xe0:\\xd7x\\n\"\n",
      "b'\\xf0\\x0bOb+\\x16X\\x87\\xf9\\xa6\\x1de\\xbe\\xf6\\xda\\xa7\\x02\\xf9&\\x1d\\x91B\\xb8H\\xba\\xe4\\xcc\\x81\\x1a\\xef\\x81\\xd6\\xdaf]\\x1a\\x1f\\xd6\\x88\\xd8;}\\xd1\\xbak\\xbb\\x94j\\xd7n#@{\\xae\\xb5\\x07\\xb4\\x1dY\\xe4\\xf1mp^W\\xc4\\xe3\\xf5K\\xed\\xf6\\xf3\\xf0\\x01\\xd0\\x00\\xf5\\x07\\xe0\\xa7\\x18e\\x93\\x9f\\x80\\xd4>\\x81<\\x1f(u\\x9ee]\\xe4\\x83\\x0c\\xdb:z{M\\x8b\\xab\\xd0\\x1f<9\\xf2\\xb9Lz\\x1d\\x90_\\xf0(m\\xb19\\xfa{\\x00\\x88\\xcc\\x024\\xe0H\\xa5G\\xf7\\xdf\\t\\xe8\\xa8>\\x8f\\xdb\\xd4\\xb1\\x8a=\\xf1\\xee_\\xb7\\xc9W\\x0eu\\xfa\\xa2\\x04\\xb4\\xcd\\xed\\xf4\\x0f\\x1c}V38\\xd3\\xe8\\x1fr\\x1b\\xd3\\x00\\xf5\\x9f:\\x00,\\xd80\\xa5\\x02\\x82b\\xaak\\xf9\\x0b\\xce4G=\\xd0\\xfc\\x02,dw\\xdb\\xae\\xb8K\\x9djQl(\\xa8\\x90[\\xde\\x01Xx\\xc00A\\xe3\\r<\\xc5\\xa9{\\x11\\xbb\\xd2\\x1e\\x99s\\x9aW\\x7f\\\\I\\xd1\\xf9\\x94\\xf1:\\xd9\\x04\\xa4\\xf5\\x04\\xa34e\\xd3\\x84^C\\xe7\\xfc\\x80\\x91s\\x03\\xb5m\\xb7Q\\x00\\xb9\\xfb\\x90 )t\\x9cV\\x00\\\\\\xdao\\xa0m\\xdb\\xf8.\\xa0Mh\\x8f?\\x0b\\x9a\\x82\\xc8y\\xc7\\x19Vh\\xd0\\xb1\\xf8Sw\\x0e\\xca\\xfe\\xe6fb\\xfa.\\x9co\\xc0*\\xc2>\\x99:\\x7f\\xf0\\x1f\\xb6#b\\x07\\xda\\xbd\\xda\\xb1y6\\xa3\\xea\\xf0]\\t\\x8f\\xfe\\x1e\\xfd&W\\xa2>\\xf3\\xda\\x1b`\\x83p\\xc8\\xb1\\xbcA\\x99\\xa8i6\\xb0\\xabnCDO\\xf9{0\\xed\\xb5\\xc1:\\xc0a\\x87&\\xbee\\xa4i\\xd1\\xae\\\\0\\xf1\\xbcH~\\x15.\\xf3\\xe2\\xe8d$_c\\xa3\\xf5\\xc6\\x11\\xf5\\xab?\\xc9\\x97\\x94\\xad\\x1d0\\x9f\\xd2\\xb1H\\x1dy\\xe9\\xbc0+A\\xbb\\xf0\\xfa?\\xac\\xaa\\xf7\\xa2=\\x8b\\xa2\\x93Y\\x1f\\xc2\\xb2`\\x15\\x00*E\\x90#d\\xe2\\xed\\x87p\\x12t\\x81]f\\xe1{\\xf4\\xc0E\\xe7\\xe6\\xb33\\\\\\xf1\\xf7\\xe8\\xc0\\xe1\\xa8\\x91y\\x92u\\x87\\xfe{\\xce\\xdb\\xe3\\xc3r6\\x99\\x95\\xdb\\xf2JF*}G\\xeewa\\x8f\\xf3\\xc9\\x1f\\xc2}\\x1d\\x07[K\\xd7\\xbc\\xa0\\xfai\\x0e\\xa4|\\xc3\\x7fb\\xeb\\xfa\\xa3\\xb5\\xa6\\xeb\\xb4\\xd7\\x19x\\x89\\xf7\\xc1\\x19\\x84W\\xacw\\x1e0\\xb3\\r^\\xc3\\x0e\\xbdn\\x87\\xcd4l`\\xf8\\xaa\\x87\\xca\\xaci\\xc8e\\x8c\\x94|1\\xd7\\xbf\\xacO\\xc8\\x82&\\xf1\\xef\\xb95`\\x1b\\x8ctE\\xffs\\xc3\\xb3\\xd6\\xc3\\xb5\\x81\\x19[\\xd5\\x0e\\xddT\\x84>o\\xf0\\x16\\xec4\\x16>\\xb0\\xf0\\x02\\xb3\\xb3\\x89FM\\x0eGr@!\\xfa\\xb7\\xe9\\x83<\"\\x16yO4\\xc9w\\xfe\\xd7\\xaf>\\xff\\xebw\\xe7>\\xccT\\x8e\\x8c\\xbd\\x9f{\\xbd<\\xa6\\x9ft\\xa6IY\\x7f\\x86\\xf4\\xb6\\xfdHCG\\x19Z\\x86\\t\\x99\\xc3\\xa7\\xff^\\xbb\\x8e\\xeb\\\\\\x806\\xe7\\xf8S>\\xf6+\\x0c\\x8c\\x0bM7\\xa8\\xf0\\xf8\\x90\\x0b\\x7f\\xe0\\x87\\xe9_\\xf5G\\x07\\xf5\\xf8\\xcb\\xf6Pv\\xd2\\xba\\xe8\\xafFb\\xb7\\xea\\xee2t\\xf4Kz|\\xfd@\\x1f9\\x80<\\xc6\\x11\\\\\\xe2%6c\\x17\\xf6\\x80\\xcb\\x01\\xda\\xab7\\xcf\\n'\n",
      "b\"\\x81l\\xd0\\xf3z\\x0fdC\\x17\\x9e\\xb5\\x0e\\xebzm_\\x8an\\x87\\xce\\x83\\xf8T\\xc9\\xb9Q\\xe6\\x07\\xef6\\xdb\\x9c>Z\\x8eh k{\\x98\\x94\\xf8\\x9a\\xee\\x08\\x88\\xfe\\xda\\x13\\xe8\\xa6\\x18X\\xb2E\\x87n\\xfe\\xf9\\x00\\x1b\\x10I\\xf8PD\\xa2\\r\\xb9\\xe0T\\x06\\x8f=\\x1e\\x8b\\xe9\\xa3\\xda}\\xb8w\\x82\\xf1\\x9d\\xc7]7\\t\\xdc\\x84|\\xe5\\x10Een\\x1a\\xa0\\xf7\\x8d\\x07I4\\xe2\\xc8\\x18J\\x9ei\\xc6'\\xd0\\xd1\\x1f\\xeb\\x07\\xc6\\x06Ct;\\xe8\\xfc\\x0eg\\x0ek\\xa0{\\xfd\\xea\\xe9\\xdd\\xfbW\\xef\\xdf\\xfdC\\xf3\\x84\\xaf?!\\x8f\\x1b\\xa9|\\xc5\\x8a\\xbe\\x7f\\xfa\\xf4qn|\\xbe\\xbd\\xfa\\xf4\\xf9\\xe3:\\xe8\\xebA\\xcf\\x97\\x97O\\xaf>~\\xfc]t\\xbf\\xeb&\\xf1\\xf3\\xe13\\xe9\\xb7\\x7f\\xe5(\\xfeb\\x8b\\x0fg\\xb9Is_Q\\x8f\\xb5\\xe78\\xb0/\\xec\\xab\\xf4\\xe3\\x18\\x9b\\x03\\xbf\\xe8J\\xbb\\xfc\\xad4\\x87|\\xde?\\xe1\\xa77\\xdc\\x80\\xc0\\x0f\\x8e\\xeb\\xbfh\\x0c\\xd47\\x985\\xb3\\xda\\x0e\\xb8b\\xca\\xff\\x08n%\\x9c\\xe1G\\xed\\x8f!\\x9c\\xf4\\xd3\\x05\\xc3Ci\\x0f\\xfa\\x13\\x97\\x81e\\x0c\\xf0;S\\xee\\xb8a\\x07V\\xbc\\n\"\n",
      "b'\\x18\\xfb\\xfcR7x\\xfdQ\\xf1\\xf9\\x1d\\xed\\x91S\\xf9\\xcc\\x1b\\x8f\\x89\\x08\\xe0\\xa7N;\\xeb\\xf3\\x8b\\xc6<\\x87k\\xd4#\\x13Z\\xa2\\xb8\\x10;\"-r\"\\xbf\\xeb7\\xb8\\xd8\\x1b\\x1bU\\x19\\xba\\xa3\\x9d\\xb8\\x03|\\x88 \\xb4y\\xe4\\x07\\xec\\xa1\\xec\\x1btS\\x84\\xd7\\xb1j\\xbb\\x9a,\\xd6\\x10{\\xf0\\xcb\\xbe\\x1eDF\\xae9\\xc8\\x04\\x97xw\\xcc\\x0bA\\xde\\xfe\\x91\\x16x\\xbe!\\xff\\xab\\xe6\\x8b\\xe6\\x8f\\xe6\\x1a{M\\xe43\\xa7\\xe0\\xa1\\x0eK\\xf8\\xc2[y\\xf6\\x85\\xec\\xa0\\xde\\xbcP=\\xd0\\x01\\x1e\\x97\\x99O\\xcc\\xbf\\xd4\\x93pLs\\x83\\xcb@u\\xaa\\xce\\xff\\xe2\\xad\\xa6\\xf3\\xd3\\x98\\xbf\\x1d\\x96\\xee;\\xf0\\xe6u\\xde\\xc5[\\xff\\x92\\xa8\\x93\\x18w\\x0et\\xbe\\x073\\x0c\\x0b\\xbe\\xd7\\xa5{v\\xe0\\xd1\\xe0g\\r\\x12\\xd4\\x0e\\xa0\\xb6Ar\\xc4\\xcd\\x11\\x97\\r_ v\\x1fz*c\\x87\\x8ecb\\x91\\x03\\xb5\\xf4\\x9fr\\xf3B\\xf4\\x1e6SFgi\\x90\\xdewm\\xf2*\\x0b\\xf0\\xd8f\\x1e\\xcd=\\xff\\xd0\\x12\\xb4$\\x11{?\\x82M\\x8a\\xf7\\xee38\\xc47\\xce\\xa6\\xf6\\xda\\xa6\\xf9\\xa6\\xebw\\xf5[\\xde\\xcc;> \\xf2+\\xcf\\x06\\xef\\x0fu&\\xed\\x00/\\xb6\\x90W\\x8e\\xf9\\xc7\\xfe\\xf2\\\\\\xe7\\x16\\xed$\\xc0\\xf8\\x18\\xb6x\\xe1)=\\xa9z+\\xb3\\xf2}-\\x93\\xec\\xdd\\x06\\xa0\\xf1\\xd2\\xbd\\xc71\\x8f\\xe3_\\x12\\xfc\\xe7\\xc0\\x12^\\xa8\\xea\\x0e$\\xaf\\xfd\\xc0\\xae\\xa7\\xb2\\x0e\\xfa\\xbf\\x0fNv\\x0bl\\x87K\\x0c\\xb5\\xecS^\\x1a\\xfd\\xf1\\xd8C[\\xfa\\xd5&\\x80\\xd71$\\xae\\xe2\\xc8\\xfb\\xc1\\r\\xa9x\\xe8~\\xea\\x00\\xb0\\x0c;,\\x9c\\x06B\\xea\\xa3p\\x12\\xce\\xa55FL\\xae\\x01\\t\\xae)\\xf5T\\xc4sM\\x06\\xf2&`\\xafO2\\xad\\x02\\xc1\\xc2\\x98\\xd8\\xe7vu[\\xf9\\xa1u\\x08\\x05\\xe3\\xbc\\xf9\\xdb\\x7f6\\x98|A\\xea\\xab\\xddr\\x8d\\xba\\x03B\\xce\\x8a\\x92\\x0b\\xa3\\xea\\x0eD\\xca\\xc1\\x87\\x86\\t\\x02>\\x12\\xcfp\\xc6\\xe0\\xe7\\xa4\\x96\\'\\x978\\xb8\\x13\\x9f\\x95}\\x01\\x1a\\xcds\\xabe\\x18\\x0f\\x80f\\xe1\\xc8\\x87\\'\\n'\n",
      "b'S_\\xed\\xa3\\xafx6\\n'\n",
      "b\"F1\\xce\\xa0\\x07o\\x99*r\\x93\\x89\\xc1f\\x87\\x96\\xb2\\x92.\\xdefd\\xb3\\xe3'QT\\x05oyObi\\xffh\\x98\\xa4\\x8b~@t\\xb6m\\xab#w\\xfcO\\xee\\xaf\\xdey\\x92\\xe0)\\x02?)BC\\x97\\x17\\xf0R\\xf2\\x1f\\x8bty\\xdddq\\x11\\xa7L\\xda\\xcbJ\\xd0X\\xd6\\xa4\\x88\\x88\\x10;\\x82\\n\"\n",
      "b'm\\xd2\\x8f\\x0b\\xa8_\\xe25Oo\\xa4|\\xc0\\xe0lC\\xa0\\xa2\\x7f\\x0c\\x957\\x80\\x8c\\xa5\\x03@\\xe6^\\x8f\\xe4k\\x8c\\xecu\\xc7\\xdb\\xd4\\xf7E\\x12\\xc8W\\x11i?\\xf3\\x98\\x06\\xda\\xa9\\xa7\\x9d\\xe1\\xd0\"\\xf4V\\xe3\\x80^\\xc8\\xd9 \\xc8F\\xbe\\x8a\\xc2\\xd8\\x0c\\x1b\\x1cs1\\xe0\\xd0\\x98E-zi\\xeb\\xa6\\xc22\\x16\\xa4_\\xff\\x7fy\\xe7\\xa2\\x1d\\xc7m\\x04Q9Q(\\xc9\\xc9\\xff\\xff\\xaam\\x85\\xb2S\\xb7\\xaa\\x0b\\xc0\\x0cW\"-\\xc7\\'\\'IKM\\x00\\x8d~\\xa1\\xf1\\x18\\x0cfvw\\xd3H\\x07\\x87\\xb4\\xfa\\xdf\\xd0\\xf4\\xe0{\\x88\\xdf\\x82\\xf2\\xe0py_\\x91\\xb9\\xf4\\xb7\\xf2f?\\xe5\\x07<~\\xde\\xa2\\xb7<`\\xfa\\xe2!o\\xc7s\\xf5\\xde\\xf1\\x04\\xf7chg\\xdf\\x87>\\xe0q\\xd52i\\xf1\\xa6k\\xc1\\xd8\\xbf\\xe0\\x01\\x87\\xea\\xc7\\xf0X\\xef\\x16kN)k\\xc8%\\x16#{ig\\xf2\\xdaf%oq\\xfdq\\x9b\\x06\\x9dG\\x0f\\x1b\\x17%\\xceW/ci\\xb2F\\xd1\\x95B\\x03\\xf3F\\x19\\xe4#~\\xd8r}n\\xe6}\\xedT\\x1c\\xb9\\xd1\\xf2E{d\\xf1\\xc7oK\\xe3\"\\xaf\\xaa\\x19\\xe0\\x19\\xff3A\\x026F\\x19\\xfb\\xf0\\x0er\\xdd)\\x9f\\x15\\xb7\\x1e\\xff\\x01\\xf2\\\\\\x87@\\xd1|\\x9d:\\x11\\xfe\\xda9\\xe8\\x9e?M\\x85\\xccOB\\xe8\\xf6\\x88\\x7f\\xda\\xed%\\\\\\xf6\\xbc$\\x9b]q\\xf0Z,6\\xa1\\xdf\\xbc\\x91\\x8e\\xbc\\t\\x86\\x9al\\xfcP\\xc3\\xc1\\x07\\x0f\\x87\\xcc\\xa7\\x85\\xd3s\\x965c\\xde\\xa23\\x0e=O\\x86\\xd1 #F\\x81\\xdb\\xed]GR\\xd7\\x0f\\xe0\\x98\\x1d:\\xf8\\xedg\\xae\\xc9H\\r\\xc9v8\\x1c\\xa9M\\xf7\\x9b\\x94\\xf9\\xc1\\x15m\\x16\\xf0#\\x1e]\\x97x\\xda\\x8e\\x1e\\xdf\\x94\\xf2\\xa5\\xd5\"\\xfe\\xa0\\x8d\\xbd7\\xc5\\xa3\\x9f\\xb7\\x9a\\xe9\\xc7\\xacalb9 \\xd1\\x86\\xde\\n'\n",
      "b'\\x89\\xa1\\xca\\xc7\\xe1_Z\\xa1\\xbc\\xeb\\xdb\\x901\\xbe\\xca\\xb4#\\xb1M\\xaa2U\\xbe\\x96&V\\\\OMW\\xcaGKyS\\x80\\xb5\\x9bMt\\xc6\\'qB\\x88X\\xa0\\x83\\xb5Xe\\xf7\\xf3\\x06\\xfb\\xe1q!$\\x8bN\\xe5\\xadB\\xa9\\xbf\\xc7\\x86q\\xcdxr;\\x13?\\xe2\\x9e_5\\x96\\x90\\xf2\\\\\\x03\\x1cw^YB\\xd2\\xb6\\x9d\\x9b4\\x80,\\x9btn\\xca\\x19+|mDl\\xf0\\xe6(\\xd7\\x86\\xf1O\\xe5\\xb8\\x80_B|$o\\xc7\\xf0\\x8fy\\xb8\\xfd\\x0c\\x92\\x90\\x12\\xcf\\xb4\\x9bz#\\xfa\\x94\\xf1M\\x06\\xbc\\x10\\x19;\\xb6\\x02\\x8dl\\xf3Sn\\x9e6\\x8e\\x9cYjk\\x81\\x886\\xa2~\\xf1Z\\xa5\\x948\\xebf\\xf2\\xe9\\xe9\\x93\\xf0\\xc3\\xbbg\\xc9\\xff\\xfc\\x0b\\xdf\\x0b\\xcaG\\xc9iw\\xdex\\xf8\\xe7\\xe7_\\x1c\\x07\\xde0\\xe4\\xf0\\xee\\xf9\\x9f\\xbf\\x189\\xf8c,\\x91>?\\xc3\\xf3Y&\\xb8\\x89\\xe2\\xf0PQ\\xa2\\xaf\\x95\\xa2\\x07\\x97\\xb8q\\xe4\\xe3B_\\xbcN\\xc8W\\xf9\\xe3Cj\\xfaJ\\xa4\\xdcx\\xa9\\x1f\\x15\\xe3\\xc4\\x0e)\\xd8&\\x9f\\xa2|\\xa6\\x8fDs\\x1c\\xdb\\x07A\\xc2\\xf5\\xdb\\xbbg\\xd1D\\xf7!ib\\x93\\xef!\\x86\\x87\\xb4\\xb1\\xb9\\xc5\\xc8cl\\x9b\\xb1!J\\x8e\\x17T\\xa1ynr/`kx\\x0c\\xaf\\xd5\\xbf\\x02\\x8c)\\x92\\xc1;\\xec\\xba\\x89\\xcd\\x0bPMc\\xe7\\xd8&\\xf6\\xa4\\xac\\x1b\\xe4S\\x0e_\\xfa\\x85\\x07\\xa3\\xf9x\\x1e1\\xfd\\xf0^\\xe3\\x16\\xa2\\xe2I=\\xba\\xf2\\xd1\\xaf\\xc4\\xc6\\x1fie\\x1ey\\xbc0\\x07\\xe3\\t\\xbc\\xbcEk\\xdd\\xea\\xac\\xec\\xb1\\xe4\\x11C@4\\x0e\\x1a=DaN#\\x0c\\x94\\xa7{\\x04\\xe3\\x97\\xf7\\xf2\\x8c\\x85\\xebM~\\xda$A\\xfdw;D\\xe3\\xba\\x80x\\xdb\"\\x0e\\xeb\\xa9}\\xc6S\\x0f\\x02X\\xe3\\xd1Y\\xacn\\xe6\\xc2\\xbey\\xc7Fx\\xd3\\xfe\\r\\xa9\\xdfP\\x7fX\\x13\\xd1\\xcf\\x1b\\x80\\xac\\xd7\\xcc\\x0f\\xbe_\\x11\\x1d\\xe8-\\xaf\\xeb\\xecG\\x0e\\x0bZ\\x07\\xadi\\xfd\\xc9\\xc3\\xea\\x1f\\xb2V\\xb9m\\xa7\\xed\\t\\xde\\xa3Tc\\xba\\x9c\\xc8\\x1b\\xac\\x7f\\xa8\"\\x95\\x1eJ\\xe3z\\xf0\\xfc\\x89\\xb0|z\\x00=\\x00\\xeb\\xf6\\x81\\xeb\\xbc\\x08\\xd9\\xe3{L\\xa5?Z\\xff\\x02\\xef0\\xf4\\x87U\\xb4Y\\xcd\\xad\\xe8\\x95\\xe7\\xc1\\x98\\x13\\xb4\\xdc\\x8fB\\xb2\\xa6\\x01\\xe9Sx\"\\x03\\xb6\\x9f\\xa1\\xfb\\x81\\x8fx#\\x0fF\\x9e\\x14>_\\xd3\\x85\\xd2d:P\\x9b\\xb4\\x99\\xf1@\\xda1\\x01\\xc4\\x0fd\\xc6/\\xc5\\xc7\\xd7A\\x01\\xd72\\xe6\\x05o\\xf6\\xd9\\x0f\\xd5\\xf9c\\xf8\\xa2Y~\\xc6\\x9d\\xafm\\x92\\xf5\\xf7\\x03\\x9a/\\xfb \\xa7\\x94\\xf1\\xc7k\\xe4\\xf6\\x07[\\xf1t\\xd6\\xf8\\x90\\x05\\xa2\\xbb\\xcd\\x8b`^\\x10\\xdfA\\xfc\\xa5\\xfe\\x8e\\xe5m\\x1e\\xde\\xc6\\x05\\xfa\\xb3\\xd6\\x1a\\xea\\x18\\x9dg\\xbc\\xc8\\xd7\\x86u\\xbd\\xcfw\\x1c\\xf2f\\xa3\\x0f\\xb6\\xe4#\\xb1\\xe3\\xa1\\xd7\\xc9\\x87\\x9c\\x91^g\\xcd\\x1a\\xdf\\xbd\\xb7\\x11\\x88\\xcd\\xb0\\xf8D?\\xe5\\xe8\\xbe\\xe8\\xeb\\xbcL\\x7f\\xe37\\xd0v\\x00\\xa9\\x0f\\xad\\xf9\\xaf\\xc2y=\\xfa\\x0ed\\x9c\\xb9M\\xb2\\xd5\\x98\\xd7n\\xf6\\x1e\\xaa\\x92\\x9fj\\xacy\\xee\\xe0\\x8f\\x90#\\xae~\\x95Dd\\x90\\xb5z\\xb5_\\xe8\\xb6\\x89F{\\xf7x\\xcc}\\xc7\\xab\\x07\\x808\\x82\\xc0\\x1dw\\x9d\\xb3\\x17H}*\\xca\\xdb\\xf2\\x06\\xca\\n'\n",
      "b'\\xee\"?\\xaa?\\xe1^\\x06\\x98 \\xed\\xa0\\xc7\\x1d%o\\'wBi\\xf7Z\\x95^\\xb0C;u\\x97A4w\\xfe9\\x00hO\\x06d\\x9e\\xc8\\x0bx\\xc2k(\\xcf\\xb5#w\\xaep\\xa5\\xec\\xf8\\xdd\\xdai2\\x9d\\x0e\\xe0\\xc3\\xc0\\xd9!g\\xfe\\x04\\xf5\\xdb\\x0b\\xb8\\xf0\\xde\\xe4\\xa8c\\x069\\xe5`N\\x93\\x8a\\x85\\x8c\\x81\\t\\xcd\\xa9\\xf8\\xd0;\\xe3\\xa5\\x17k\\xe4\\xd6[,\\xc4\\x82\\x85@\\x17\\r\\xfb\\xccb\\xd6\\x05\\x8c\\t\\x0b\\x8fR\\x06\\xaa\\x84F&In\\x04\\xc9\\x0f\\xdd<\\xa3\\xd7qg\\x92\\xa3\\x07\\x1a`!\\xd3\\\\\\xb2k(s\\xc9u\\xa4\\xae\\x85<\\x9b\"_`\\xfc\\x87\\xc9G\\x05\\xe9\\xa0\\xe8\\xde\\xbc\\x92\\xfa)\\n'\n",
      "b',\\xd5)0!@\\xd6\\xedG\\x95\\x9aM>}\\x89.\\x18\\x82$\\x81\\xeai\\xfd\\xa4\\x03\\x9b\\xefw\\x02m\\xb9\\xc0\\xbd\\x1c\\xcd\\xf1mC\\xcbk\\x01=\\xea\\xbd8\\xb5\\xdd\\x13\\xdf\\xbb\\xde\\x1dk\\xc1\\xc8\\xa2#\\x1b\\xb9\\xddo\\xef\\xd1\\xad\"\\xdfu\\x04[>\\x1e\\xce\\x862\\x1b`\\xd4\\xb0(\\xf6M\\x1c\\x1f\\x82\\x8c\\xea\\xeb\\xecU\\x7f\\\\\\xca\\'0\\x0ev\\xdde\\x8c\\x18\\xaf\\xbe\\xbf\\x1d\\x90;u\\x9d\\xe9W`\\xf5G\\x1b\\xf1\\x9a\\xdck\\xf5w=_\\x01\\xec\\xbe\\xc6S0_\\xf4\\xd2g/\\xfa\\xd28\\xe5\\x17\\xb0e\\xafp\\xa3\\xd9\\x1fg\\\\\\xfc\\xba\\xbe\\xc2#\\x9d\\xa7\\xd8\\xe4.\\xebm\\x81<\\xf6\\xd0Qz\\xf4u\\x055\\xbd\\xf5K\\x94\\xbe\\xedX\\x15\\xce\\xc6j\\xf10V\\x19\\xcb\\x8e\\x174\\xd2\\x81\\xc9\\xef\\xf8i>\\x93\\n'\n",
      "b'cQ\\x03\\\\7\\xec\\x8c\\xcb\\xf0\\xe8\\xc6\\\\\\xa9\\xfd\\xd1\\xf8\\xe4c\\xb1\\xc8\\x992\\xe3\\xbf>\\'vS\\xb6\\x1dl\\x8f\\xaf\\xdd\\x90\\xd8\\xe6\\xf8c\\x9e\\xcc\\xe1u]\\xf2\\xa1\\xe6\\xc8\\x02\\xce\\x0f\\xac\\xbcR\\xdb9\\x80:\\xeb\\xc9\\xe6\\xc2.a\\x0b\\x11\\xf1zC\\x02\\x8c\\x1c\\x9b\\x8cB\\xda\\x97\\xb2s*\\x7f\\xfc\\xf4\\xc1\\x1b\\xb9nh{\\xc8\\xc9\\xf5\\x85z\\x0e\\xd5\\xbcq\\xe4\\xa3\\x8e\\xa4\\xac\\x17\\xe8Q{I\\xcfM28\\xcbxh\\xe2\\xdd\\xfcA\\xfa\\xcb\\xb4A\\xf8\\xd0\\xeb:\\xe0\\xd8 ZF\\xff\\xa8/\\x8f\\xeb\\x8c\\xe1\\xf7\\r\\xc5\\xe8ds\\x05z\\xbd\\xe2\\xb0\\xcbt\\xd6\\xbc\\x89\\xc9\\x01\\xe9we\\xe6\\x8d(kc\\xcdG\\xdfJ\\xb1\\xa3q\\xe2k\\x01\\x88_s#\\xd0\\xeb\\xc4\\x1a\\x9f\\\\d\\x94\\xac\\xfe\\xa7 \\x1b\\x1aG\\x1c\\xf6q\\x11\\xe2#\\xa6\\xf9\\xb1\\t\\xde\\x02\\xe4\\xf0`$i\\x9b\\xf4x\\xbc)\\xae\\x89Y\\xc6\\t\\xdd\\xb1b7\\xb0\\xca\\xfa\\xcf\\xaf\\x81\"\\x8b\\x0e\\xc0m\\x1f=\\xde\\xd0\\xaa\\x1d\\xbboi\\x976\\xa2\\x13\\xa7\\xf4C\\xf4mh|\\x83\\x8c\\x03\\x1f\\x12\\xf7\\x06\\xc81P\\xab\\xdd\\'\\x7fSx\\x98O\\xa29\\x1c\\xb2\\xeb\\xf1 ^\\xd8\\xec\\xa2\\xe2K\\xd5\\xc4\\xeb\\xb4\\x85\\x9f\\xf9\\x885\\xb6D\\x98v\\xb9\\x8f;\\x0e\\xdf\\x8b\\x9f~\\xd4\\xb8\\x8e\\xcd\\xb0\\xc2\\xeb\\xf1\\xbe\\xfc\\xcfx\\xf1\\xd7\\xfd\\xa1g\\xac^\\x01\\xda\\xd0\\x9d\\xd0/\\x8a\\xdf_>\\xf8\\xcd\\xbf\\x8f\\x1f?\\xbd\\xfb\\xf1\\xc7\\xbf\\xfb\\xc0\\xe6\\xf9\\xf97\\x7fI|\\xdeF\\xca\\x8d\\x01\\x87wy\\xdb\\x89\\x03\\x0b\\xe4ik\\x0e\\xf9\\xfc\\x16\\xe2|_\\xe4\\xf3\\xf3g\\xb9\\xcf\\xf7\\x99\\x89C\\xfc\\xdc\\xfc\\xba]j\\x93\\xb4 8\\xb1\\x17\\xaaA\\xf2\\xdc\\xcd\\xc9G\\xd3\\x90Q#8\\xd0q\\xfc\\xf7\\r,\\xe0\\xb6\\xb9\\x9c\\xeb1\\xedp\\x99X\\n'\n",
      "b'S\\x87\\xac\\xe2\\xce\\x90TQ\\x97\\xfci5\\xb1\\xc6\\xe7IY\\xffR!H\\xbc\\x17\\xcc\\xfa\\xb1\\xaaWnS\\x9cw\\xf1&{\\x81\\x93\\xff\\x11\\xbcV\\xff\\n'\n",
      "b'\\x8c\\x9f_\\x83\\xad\\xfd1\\x1f\\xfb!\\xcf\\x0b\\xd5g\\x9d\\x98v+\\xcb\\x1cy\\xd6\\x8d47\\xc4\\x8dm\\x0e\\xa4R\\xc7>\\xd4G\\xe0\"DG\\x80n\\xe9\\x81\\x07\\xf4\\xae]\\x1dK\\xee\\x13\\xdb\\x12\\xc8\\x10\\xba \\xc2K\\xb7S\\x8f\\x0e^@\\x9aeb\\xd9\\xa7=\\xce\\xab\\xde\\xe5\\x99\\xe7\\xb8\\x8d\\xce\\xee\\xfb\\xc1eC\\xe0Yj\\x1d\\x91sF\\xc0:\\xd8\\xb5\\x03\\xa8\\x1c4\\x10}I\\xa3+\\x87\\x03\\x89\\t\\xe3\\x94\\xc3rd\\xda\\xc6\\xc6\\x81<\\xf6\\xe2\\xd3\\xd6\\x07\\xdd6X\\x0b\\x95\\xd2\\x10\\xbeC\\xb0z\\x88\\x0f\\xf1\\x00k\\x03yX\\xd1\\rZ~\\xfc!\\x8f\\x1d\\xe8\\xe8\\x07\\xf0\\x0f\\xda\\x15\\xd2\\xde\\x17\\xe9\\xecW\\xe0FW1\\xdf\\x1b\\x0c\\x12h\\xd9\\x0f\\x87\\xea\\x94\\xac\\x14\\xb8\\xdb\\xf9\\xf7\\xc3\\xe9\\x17\\xd0\\xb6\\xd9O]gH\\xbd>N\\xacCO\\x7f\\xaf8,\\x7f\\xdf\\x06\\x8f\\xd8\\xed\\xc3\\xe4\\x0b\\xe8\\x8f\\xbd\\x94\\xed\\xcb\\xe1\\x07}\\x98r}\\xcf\\xf8(\\x0f\\x0f\\x93\\xce1C<\\xe3w\\xfa\\x19\\xbd\\xd1\\x1d\\xf9^\\x1f\\x8b\\xb2f:@\\xf9\\x0e\\xe8\\x00k\\x03\\x1e\\xf4S\\xf6!)\\x88\\x1e\\xdb\\xca\\xbcRAzeO\\xff{\\xa0\\xb3&\\xe6\\x80\\x7f\\xf0\\xd2\\xf6\\xa2\\x1f\\xbf|\\xed\\x9f\\x07\\xc6\\xd0\\x80\\xda\\xf5z\\xdc\\xb5Ji\\x0f\\xc2\\xd8{\\x9d\\x90\\xb6\\xef~\\xcb\\x0f\\xe4\\x04\\xd0\\x05\\x9e\\xf5\\x1d\\xf3n\\x8ftQf\\xfc\\xb3\\xd6\\x00m\\x1b\\xf4\\xc6\\x07\\xd9\\xf8,\\xba\\xe6\\x1e\\xfc~\\xb8\\x87Na\\xe6w?Y\\x91\\x98!_[\\x00\\xfd\\x99\\x07\\x1b\\xb3@M\\x1cz\\x7fI<j7\\xb6\\xf7\\x984\\xb7TS\\xdf\\x1f\\xa5\\x0bm\\xcfk\\xa0\\xbc\\xdf\\x86\\xc8~/\\xc8\\xab\\xac\\xe5\\xe3\\x1f\\xb0|P\\x99\\xbd\\x13\\xfe\\xfb\\xab\\xd0\\xc6\\xff\\x13\\xfb]\\x89m\\x83\\xef\\x13D\\xef\\xbaJ\\xfbB\\x9f\\xfe^\\xed\\xcdG\\xb5\\xdf\\xf4\\x06 \\x0e\\xd5\\xa93H(\\x8c]\\x06\\x19\\xce\\x83\\rf\\xb0\\xe5\\\\1v\\xfd\\x02\\x17\\x91\\x7f@\\xaf\\x8c\\xe5\\x00\\xd2\\x13\\x05K\\xbe\\xb4\\xab\\x1e\\x85fr\\x05|\\xb7r!\\x13N\\xa9Y\\xa6<\\xb9\\xfc\\x11\\xc5m,\\x15m\\xf0L\\xd9\\x89\\x02L\\x9a?)\\'3i\\x07\\x94\\x99\\x07\\xe1I\\x1e}W\\xa8\\xdc\\x1d\\xcaw\\xa4nn\\xdb3\\x90\\xa0\\x1b\\xec\\xb7\\xfc_\\xf9\\x0bXx\\xa7\\xd4\\x9f<-\\x0b\\xd9$\\xf6\\x82\\xc9\\x8dA&\\x94\\xec\\xaal\\xed\\xca\\xc3\\xaaU\\xc0\\xf62F\\xc2C\\x8a\\x0b\\xa0\\xbf\\xbf\\x83\\xcd\\x86\\xecyY\\xf2[\\x7f\\x99\\xdc\\xbeI\\x81$\\xfd\\xc8\\xb1p\\xe4fP6\\xad\\'\\x1bQ/t \\x03\\x1b\\x9bF\\xf1\\x81\\xc8A\\xc0\\x98\\xf9(\\x89\\x8f>F\\x15H}c\\xc6\\x7f\\xd12\\x99R\\x87gl\\x93\\xd7M\\xd7\\x0f\\xda\\x05\\x89)\\x8b\\'O\\xb3y%\\x97M\\xb8\\x05\\xae\\x90 \\x08\\x8f:\\xe9I<\\x88Q&m )\\x12\\x91)L\\xbd\\xed\\x01\\xe5\\x0b\\xe7\\x1d`\\xa3\\xc6\\x87\\x92\\xa4/\\xb0t\\xf9\\xb1\\xf2\\xc1\\xe3\\x8f}<\\xe1,\\xdf\\xeb\\n'\n",
      "b\"\\x19\\x03\\xc4\\x12\\x18?\\xbf\\xc2[\\xe8\\xc2\\x0c;\\x17\\xa1'\\x8f\\x07\\x16\\xa6\\x1cx0_\\xa8\\xe7>'1\\xeb\\xc2gq\\x01y\\xe2\\xc5X\\xc0\\x16\\xedr\\x89J\\x838&\\xb7\\xe9I\\x0f\\x84%U\\x82\\xb3n\\xcb\\xbe\\r\\xda\\xfeQ\\xe6\\x0e\\xb9(\\x0f0\\x9eV\\x9f\\x02\\x93_\\xf1\\xa2\\xfc@n\\x95\\xef\\xf4\\x01\\xc8\\x8fb\\xde\\x80\\xf9\\x8et\\xf2o\\x02\\xfc\\x9c\\xacA\\xb2;\\xf8\\xaa\\xbb\\xd5\\xf7\\xc0\\x01\\\\v(7O_\\x9d\\xf2\\xca_\\xf4O\\xe1B{\\x04\\x87\\x8e\\x03\\xb6Xs\\xb7\\xfeX\\x80\\xddSG\\xf2{\\xfd%E\\xe6\\xc4\\xeab\\xbdn~\\xda\\xeb\\x98\\x93\\x0e\\x1d\\xdd\\x8c\\xcb\\xaa\\xab\\n\"\n",
      "b'\\x10\"1\\x04\\xdb~\\xe4\\xd9\\x94I\\x9ci\\xd4\\x8d\\x1a\\x0fK\\xa8\\xca\\xd3`\\xdd\\xc4\\xdb\\x8eF4\\xf5\\xcaf-\\x94\\xd7\\xc2\\xe8c\\x1d\\x94\\x02_w\\xe0\\x15\\xf8K\\xf2\\x94\\xe2\\x8f\\xeb\\x98+\\xf1\\xd3\\x07\\xec\\x02i1=2\\xd4)5\\xef\\xe4\\x97\\xcf\\xc3c\\xbf\\xc9\\xc3\\x82\\xb4t\\xe2\\x07u\\xd8\"\\x87O\\xe5Q\\xc2\\xba\\xde\\x8d&\\xc8|\\x85\\xd5o\\xf7\\xa1N\\xf9\\xa7\\'mdE\\xf7\\x03%C6v\\xbd\\x01\\xcb\\xa1\\x848\\xd1\\r\\xc8\\x9f\\x1cd0\\xcb\\'.\\x02\\xbf\\x1d\\xc8fzl$N)\\x03\\xf9\\xee\\x14\\xe2\\xd0\\xb5x\\xefc\\xc8[NN\\xf1\\xabj\\xe8\\xb5O\\xaa\\'oGU\\x97\\xcd\\xaf\\n'\n",
      "b'C\\xb2n\\xc5\\xeb\\xc3\\xd3G\\xf9\\x19{\\xf8M\\xca\\xc1\\x17m\\xa2\\x9d\\xa0\\x85\\x06b\\x8fX\\x133\\xe2\\x12\\xf4\\xfa\\xe71D\\x9bD37r\\x1a\\'\\xaas\\xcb\\xe8\\x07\\x03y\\xaemG\\xdf\\xc5\\xabA\\x00\\x1bsmU\\x9a\\x87+\\xf8\\xc7\\xb1\\x81DU&,\\x8e\\x03q\\xb5\\xa3iw\\xaf\\xf7_D[\\xd7{\\x03\\xd73q\\x19\\xd5^\\xf5\\x8f\\xdf*\\xb3y\\xc5\\xef\\x99ztp\\xd3\\xc3\\xa1Tx\\xb1Y\\xc1\\xb4_y`\\xda\\x93\\x18\\xe0\\xd3\\xb4o\\xd2\\xf5\\xc5\\xe7\\xf0!\\xa2|\\x0f\\x14a1\\xb2O\\xf0^\\xc1\\x85 e\\xcc\\x85\\xc1U\\xb2\\x8a!\\xeb\\xc5\\x8em1~<\\x86\\xc2\\x0fi)\\x16\\xfc\\xf5}\\xfa\\xb5X\\xb7\\x89\\x03\\xd0\\x1b\\xcb\\xccS\\xf1;I\\x7f\\xd26\\x96K\\x8f\\xa5A\\x14\\xb8\\xfd\\xde\\x97\\x88\\xf5/O\\xea\\x1a\\x0e \\x9e\\xde}\\xfa\\xf8\\x8fw\\x1f?\\xfd(\\x9d|\\x0c\\xf1\\x8b\\x0f\\x009\\xe0\\xc4\\x87\\xc4\\x8c\\x07e\\xdc\\x10\\xd0?\\xcc/\\xc6\\'7\\xb0|w\\x12\\xbf\\xee\\x87z\\x8dS\\xe5\\xd5\\x11\\xca\\xff\\xaa\\x1b$Y\\x12b\\x8a1I\\x9b=O\\xddD|\\xc4\\xa7$\\x8d\\xe9\\xaf\\x1c^cO\\xfa\\x13\\x07\\xb0\\xe3\\x83*\\xf2\\xca\\xc0\\xa7\\x8cDW\\x1dqi\\x9e\\xf6b9\\xb1\\xc8\\xe1d\\xf6U\\xe5\\xa5n\\xb2\\x8b6\\x80\\x0cI\\xd7\\xa6\\x05\\xcdOj\\xbe\\x9b\\xec\\x05N\\xd9G\\xf0Z\\xfd+0~\\x16\\xd0v\\xe2\\x86i\\x8f\\x92\\xb3\\x9e\\xe8\\xb5o3\\'r\\xe0\\xb4\\xc7]\\xe2\\xfe^\\xe5\\xfc*6\\x87\\x7f\\xfcZ:\\x07Vb\\xf7\\xdc\\xa3\\xcf\\x19\\x0f\\xe8d\\xde\\x89.=\\xbe\\xa6H\\x96~@\\x07\\xe5~|\\x18[\\xe8G\\x82\\x07\\x03\\xcc\\x7f\\xef\\xb7\\xdb\\x1e\\xc6\\x92\\xc7\\x93{0\\xb6\\x04\\xac\\xb7\\xe1\\xd3\\x7f\\xd6[\\xc9Y\\x97\\x98\\xab\\x0f;\\xf24\\x87\\x0b\\xaa\\xb3\\x0e\\xc9\\xe0\\xdb\\xd2?t\\x009\\xf3x\\xdcD\\x07H\\x11]\\xd6/\\x1e\\xf2\\xbc\\r\\xcb!\\x1d\\x00\\xed\\xe9o\\x1f\\xed\\x8f\\xdf\\x04\\x92/\\xac?\\xa4\\x8c\\x1b>N\\x9c\\xfb\\x10\\xdd\\xb3\\xf8\\xfeAv\\xa6M\\x98\\x06\\xd1\\x01v\\xff\\x89n\\xd6;\\xd0\\xf1\\xc3k\\x18\\xa7_\\x805\\xbe\\xa7\\xdc\\xb4m\\xa8\\xcf\\x91/\\xa4\\xad\\xf74\\xbf\\xc0\\x1dY\\x97\\x99\\x9b\\xc2\\x96\\xb1\\xabB\\xd8\\x95\\xd2\\x1b\\x06\\xe4\\xdc3S\\xfe\\x13\\x01_\\xb6?W\\x88\\xff\\xa9\\x07i\\xbfc \\xf6^\\xa3\\xa7\\xa9\\xbf\\x0b\\x1e\\x89\\xd8\\xc6\\xe4\\x0b\\xe8\\x8f\\xed\\xdd\\x07\\xed\\xd3\\xd3\\x1feW?\\xb1\\xaf\\x00\\xb8V?\\x7f\\x99\\x83*\\x8dKx\\x00\\xf8\\x1d\\xdb\\x91\\x0f\\xcd\\x89\\x80q\\x10{\\xd1\\x17\\x9d@\\xfc\\xd8H=\\xf2\\xb5\\x0bdO\\x14\\x9f8\\xc4\\xd3P\\xf5<\\xf1\\xd8\\x96_\\xc8\\xe9\\x8fy{8\\xc55V\\x1a}\\x8d\\xe0\\x81\\x1b:\\xd8#1\\xaf\\x91\\xe1:\\x9e\\xef\\xced<\\xc4\\xb6\\x94$e\\x0c\\xda\\x1e\\xebr\\xc7c\\xcbJ5wH\\xefP\\xff\\xdb\\x06\\xfc\\xbb\\xf3\\x95\\x0e/i\\xf3\\xd0\\x1bc\\x11&\\xd9}Q=\\x9eg\\xba\\x9e\\x15l\\x93\\x07\\xbd\\xa2\\xf1\\xdd\\xf0\\xd8\\xaeNbA\\x9c\\xacM\\xf2\\\\\\xd3\\x12\\x9f\\xf4sSdb\\x0b\\xb6\\xc4!{\\xb3\\xc6%\\xe3\\xa0et\\xd4\\xa7\\xca\\x92\\xbe\\x1d\\xa2\\xf3{\\x81\\xb5\\x1c\\xe0\\x9a\\x1c\\xbf\\xb6m\\xf6\\x8f\\xf5\\x87\\xa6\\xd4Oh98\\xdem2\\x8d\\xfc\\xec_\\xc9;\\xbe\\xa3\\x8f\\xb7\\xbf\\x81\\xfc@X\\xfa\\xca\\xf6L\\xfd\\x06T\\xb1\\x95\\x0fl\\xda8s\\xd4\\xfd~8\\x17\\xc9\\xef\\x81?\"?\\xcd\\xf7&\\xba\\xf0\\xb2-\\x9d,\\xdb\\xd6\\xf7\\xd8\\xac\\xde\\xda\\xba\\xa7\\xdf\\t\\xc4\\xbex\\xc0\\xee\\x97\\xdb\\xe4v;n4\\xca\\xa6\\x0bF\\x17\\xb2\\x1e\\x8c\\xc2\\xe6\\xb7\\xce\\x80cB\\xf9\\xa0UOy\\x91\\xf3\\x13\\xfc\\x0e8\\xa1\\xe5\\xb4`\\xed\\x9b\\xb4\\x0c\\xf4\\x1e\\xfe\\xf50\\xb0\\xf0\\xb2\\xfe\\xf0\\xe50\\xed\\xc1\\xdfv\\xdc\\x01\\xfa\\x89\\x86,0\\xb9\\xa9\\x0b}\\xc9O\\x19\\x1feHi\\xc6\\xfaTN=\\x1bZ|\\x18|\\x04\\xa3\\x93\\xcdo\\xd2\\xca\\n'\n",
      "b'\\r\\x7ft\\xfc\\xff1\\xf8\\x8a\\xd7\\x0b\\xb2\\xe1{\\xb9\\xf8\\xb7\\x1f\\x80\\xd5\\xaeo@y\\xee\\x88\\x8e\\xe6\\xb1\\x03\\x94\\x96\\x03\\x80l\\xc6\\x8a\\xed\\xfb\\xaf\\x814M\\xee\\r\\xe0\\x0b\\xc4\\xff (v\\xff6\\xa0O\\xd0W\\x04\\xce\\xfc\\t\\x97u\\xf4\\xbf\\x11\\xbe5\\x17\\x1f\\xb4\\xd77\\xb3\\x03+&\\x936>\\xf78i\\xecz\\xde\\x80\\x1a\\xcfk,_\\xf8f^i\\x8d\\xcc\\x1c\\xdbq\\x85?s@\\xfc\\x96\\xcd\\xbad6\\xc0\\xb6\\xb5.\\xdd\\xed\\n'\n",
      "b'\\x98S\\xa9?\\xea\\x8e9p\\x99W\\x0f\\xe4\\r\\xc3S^>\\xba\\xd2|\\x9f2\\x02\\xf8\\xc8|eNw\\xfd8\\xb1\\xf0\\xd3O?\\xad\\x8fLu\\xfe\\xb3\\xd1\\xed\\x01`\\xa1r\\xd0N\\x14q8\\x02\\xf8rb\\xe1\\xb4];\\xe4\\x0b\\xad\\xd3\\x1f\\x97\\x91\\xa5\\r\\xf0>\\xcf\\x13m\\xec\\x99g\\xea\\xaa\\x1f_\\xdbV\\x80<4\\xa0~T?X\\x9dl\\xca\\xaa#u\\xb9N\\xd2\\x7f\\xa1\\x92\\xc7\\x1f\\xc5\\x8f\\x7f\\xce\\x0f\\x8c^R]\\x9c\\x86t\\xac\\x8d\\xdc\\x10;\\xcf\\xc7<\\xa3\\x7fv\\x91\\xcec\\x06?N\\xfb\\x94\\xe3\\xc7\\xb6C\\x1e\\x1e\\xda\\xdb6\\xefrn\\xa6\\xdc\\x16\\xa5\\x95?\\xf9UX:\\xbb\\x86\\x93G\\x06~\\xb0P\\xddwX\\xf1\\x9cz\\xca\\xc0\\xb3\\xfa\\x84\\x8f\\xb1j\\xa4\\xb9\\xecS\\x10\\x86\\x0c\\x07\\x04\\xe8\\xfd\\xf5\\xd1\\x9b8\\x01\\xd3\\x85\\xbe\\xbe\\x8f\\x9f\\xf5\\xbb@\\xb9>\\xde\\xf5T\\xbe\\xd0\\xfa3\\xbd\\xcb\\xbcl\\x9fl\\xe1#\\xe3\\x8a\\xfd\\x90\\xebsP\\xebx\\xd2q3\\xe68\\xe4h\\xacH?\\x7f\\xe6\\xa3\\xbei\\x9fjL\\xef\\xa7\\x12\\xba/\\x07r\\xa3\\x13\\x7f8(\\x0c\\xc47l\\xf0%\\xf3|\\xd7\\x94\\xeb\\x7f\\x9b\\xb7a\\x94\\'.\\xcc\\xc3\\xcei\\xb0\\xe0\\xb2}\\t\\xef\\xaa?x\\\\\\xc7\\xb8m\\xdd\\x1d\\xd6\\xfa\\xf5\\xff\\r\\xc4\\x9b\\xbeb\\xdcu\\x9cu\\xeeP>\\xf1\\x04\\xca\\xf4_\\xfb\\x99d\\xcf/\\xdeB\\xfbUkVd:7c\\x07\\xd9\\xb1K\\x81\\xf5\\x81q0\\xba\\xceq\\xf3\\xe1\\x03\\x9f\\xd4\\x99\\xfev\\xf765y\\xf1\\xe3+v\\xebs\\xd7\\x03\\x80y[\\xbe\"z\\xea\\x0f\\x10\\xbd\\xc1\\xfa\\xc2z[<\\xd7\\x17\\x10\\xfb\\xd8\\xe3\\x10\\xa4\\xbaZ\\xdf\\xb4\\xfa\\xce\\xfc\\xdd\\x16\\x80\\x0f\\xcc%\\xec\\x00\\xd0)\\xa3\\x07\\xdf\\xef\\xfd\\x92\\xf8Fo\\xebH\\xc1\\xea\\xdd\\xfd0\\x81z#\\x9c1*\\xea\\xcf\\xce\\x1f\\xb0u\\xef\\xf5\\xea?\\x01\\xf8\\xd5x\\xb4\\x9f\\xea\\x1b1\\xf9\\xb3!\\x0fL\\xaf1\\x03\\x01\\xfc \\x8fo\\xed\\'\\xca\\xea%\\xd7\\xd1G\\x85S\\xaeP\\xffiN\\xdbx\\xa6\\xcd\\xd3\\xe6s\\x8cB\\x07*_\\xdd\\'R\\x87\\xfd\\x1f8\\x18W\\xd9\\xba$\\x0f\\xf0\\xcc\\x9e\\xf2)O\\xbe\\x08`\\x8b1+s\\xb6\\xddyr\\xda\\'\\x7f\"\\xf4b\\xe1.s\\xda\\xc2\\xbfS/\\x00\\x1d\\x9e\\x02\\x0f\\xa9*_\\xbe\\xca\\x92\\xd6\\x1e\\xfe\\x16\\xe1A\\x07\\xf8\\xf3\\xcf?\\x9b\\x06Om\\x9c\\xfb\\xa9\\xca\\x83\\x8f\\xa0\\xf4\\xd3f\\xfc\\xdb\\xf7\\x90\\xb6\\xa7=\\x02\\xf5`\\xf5\\xc3\\x0b\\x9c6\\xce\\xf6\\x9f\\xed\\xfc\\xb3\\x00;\\xf8\\x87\\x9f\\xb5\\xddv\\xe3\\xe3\\xe9\\xdb\\xe9\\x1fm\\x00\\xcb[8}\\x86N}\\xa1\\xb2@\\xfa\\xe2\\xcb\\xbb\\x7f\\x01iV[\\xda3\\x04\\x0c\\xba\\x00\\x00\\x00\\x00IEND\\xaeB`\\x82'\n"
     ]
    }
   ],
   "source": [
    "f2 = open('kp.png','rb')  #we can read the binary code of a image\n",
    "for i in f2:\n",
    "    print(i)\n",
    "f3 = open('image.png','wb')   #this will actually copy the code into this new file\n",
    "for i in f2:\n",
    "    f3.write(i)"
   ]
  },
  {
   "cell_type": "markdown",
   "metadata": {},
   "source": [
    "Search : "
   ]
  },
  {
   "cell_type": "code",
   "execution_count": 15,
   "metadata": {},
   "outputs": [
    {
     "name": "stdout",
     "output_type": "stream",
     "text": [
      "Enter the No you want to search :31\n",
      "Found at position : 7\n"
     ]
    }
   ],
   "source": [
    "def search(lst,n):\n",
    "    k = 0\n",
    "    for i in lst:\n",
    "        if i == n:\n",
    "            globals()['k'] = k+1\n",
    "            return True\n",
    "            break\n",
    "        k += 1    \n",
    "    return False\n",
    "        \n",
    "lst = [5,8,4,5,6,12,31,45,88]\n",
    "n = int(input(\"Enter the No you want to search :\"))\n",
    "if search(lst,n) == True:\n",
    "    print(\"Found at position :\",k)\n",
    "else:\n",
    "    print(\"Not found\")"
   ]
  },
  {
   "cell_type": "code",
   "execution_count": 21,
   "metadata": {},
   "outputs": [
    {
     "name": "stdout",
     "output_type": "stream",
     "text": [
      "Found at position : 5\n"
     ]
    }
   ],
   "source": [
    "pos = -1\n",
    "def search(lst,n):\n",
    "    l = 0\n",
    "    u = len(lst)-1\n",
    "    \n",
    "    while l<=u:\n",
    "        mid = (l+u) // 2\n",
    "        \n",
    "        if lst[mid] == n:\n",
    "            globals()['pos'] = mid\n",
    "            return True\n",
    "        else :\n",
    "            if lst[mid] < n:\n",
    "                l = mid\n",
    "            else : \n",
    "                u = mid      \n",
    "                \n",
    "n = 5\n",
    "lst = [1,2,3,4,5,6,7,8,9,45]\n",
    "if search(lst,n):\n",
    "    print(\"Found at position :\",pos+1)\n",
    "else:\n",
    "    print(\"Not found\")"
   ]
  },
  {
   "cell_type": "markdown",
   "metadata": {},
   "source": [
    "Bubble Sort : "
   ]
  },
  {
   "cell_type": "code",
   "execution_count": 22,
   "metadata": {},
   "outputs": [
    {
     "name": "stdout",
     "output_type": "stream",
     "text": [
      "[2, 4, 5, 6, 7, 8]\n"
     ]
    }
   ],
   "source": [
    "def sort(nums):\n",
    "    for i in range(len(nums)-1,0,-1):\n",
    "        for j in range(i):\n",
    "            if nums[j] > nums[j+1]:\n",
    "                temp = nums[j]\n",
    "                nums[j] = nums[j+1]\n",
    "                nums[j+1] = temp\n",
    "nums = [2,5,8,7,4,6]\n",
    "sort(nums)\n",
    "print(nums)"
   ]
  },
  {
   "cell_type": "code",
   "execution_count": 4,
   "metadata": {},
   "outputs": [
    {
     "data": {
      "text/plain": [
       "6"
      ]
     },
     "execution_count": 4,
     "metadata": {},
     "output_type": "execute_result"
    }
   ],
   "source": [
    "nums = [2,5,8,7,4,6]\n",
    "len(nums)"
   ]
  },
  {
   "cell_type": "code",
   "execution_count": 5,
   "metadata": {},
   "outputs": [
    {
     "data": {
      "text/plain": [
       "[5, 4, 3, 2, 1]"
      ]
     },
     "execution_count": 5,
     "metadata": {},
     "output_type": "execute_result"
    }
   ],
   "source": [
    "list(range(5,0,-1))"
   ]
  },
  {
   "cell_type": "code",
   "execution_count": 6,
   "metadata": {},
   "outputs": [
    {
     "data": {
      "text/plain": [
       "[0, 1, 2, 3, 4]"
      ]
     },
     "execution_count": 6,
     "metadata": {},
     "output_type": "execute_result"
    }
   ],
   "source": [
    "list(range(5))"
   ]
  },
  {
   "cell_type": "code",
   "execution_count": 25,
   "metadata": {},
   "outputs": [
    {
     "name": "stdout",
     "output_type": "stream",
     "text": [
      "[2, 3, 8, 6, 7, 5]\n",
      "[2, 3, 8, 6, 7, 5]\n",
      "[2, 3, 5, 6, 7, 8]\n",
      "[2, 3, 5, 6, 7, 8]\n",
      "[2, 3, 5, 6, 7, 8]\n",
      "[2, 3, 5, 6, 7, 8]\n"
     ]
    }
   ],
   "source": [
    "def sort(nums):\n",
    "    for i in range(5):\n",
    "        minpos = i\n",
    "        for j in range(i,6):\n",
    "            if nums[j] < nums[minpos]:\n",
    "                minpos  = j\n",
    "        temp  = nums[i]\n",
    "        nums[i ] = nums[minpos]\n",
    "        nums[minpos] = temp\n",
    "        print(nums)\n",
    "\n",
    "nums = [5,3,8,6,7,2]\n",
    "sort(nums)\n",
    "print(nums)"
   ]
  },
  {
   "cell_type": "code",
   "execution_count": 27,
   "metadata": {},
   "outputs": [
    {
     "ename": "NameError",
     "evalue": "name '__version__' is not defined",
     "output_type": "error",
     "traceback": [
      "\u001b[1;31m---------------------------------------------------------------------------\u001b[0m",
      "\u001b[1;31mNameError\u001b[0m                                 Traceback (most recent call last)",
      "\u001b[1;32m<ipython-input-27-566b4646f4e5>\u001b[0m in \u001b[0;36m<module>\u001b[1;34m\u001b[0m\n\u001b[1;32m----> 1\u001b[1;33m \u001b[0m__version__\u001b[0m\u001b[1;33m\u001b[0m\u001b[1;33m\u001b[0m\u001b[0m\n\u001b[0m",
      "\u001b[1;31mNameError\u001b[0m: name '__version__' is not defined"
     ]
    }
   ],
   "source": [
    "__version__"
   ]
  },
  {
   "cell_type": "code",
   "execution_count": null,
   "metadata": {},
   "outputs": [
    {
     "name": "stdout",
     "output_type": "stream",
     "text": [
      "\n",
      "Welcome to Python 3.7's help utility!\n",
      "\n",
      "If this is your first time using Python, you should definitely check out\n",
      "the tutorial on the Internet at https://docs.python.org/3.7/tutorial/.\n",
      "\n",
      "Enter the name of any module, keyword, or topic to get help on writing\n",
      "Python programs and using Python modules.  To quit this help utility and\n",
      "return to the interpreter, just type \"quit\".\n",
      "\n",
      "To get a list of available modules, keywords, symbols, or topics, type\n",
      "\"modules\", \"keywords\", \"symbols\", or \"topics\".  Each module also comes\n",
      "with a one-line summary of what it does; to list the modules whose name\n",
      "or summary contain a given string such as \"spam\", type \"modules spam\".\n",
      "\n"
     ]
    }
   ],
   "source": [
    "help()"
   ]
  },
  {
   "cell_type": "code",
   "execution_count": null,
   "metadata": {},
   "outputs": [],
   "source": []
  }
 ],
 "metadata": {
  "kernelspec": {
   "name": "python3",
   "display_name": "Python 3.8.5 64-bit",
   "metadata": {
    "interpreter": {
     "hash": "8301b1cd54f759ccb2a600e7914fbc5c24ad35ce7802d2233af19d15b7f5f47c"
    }
   }
  },
  "language_info": {
   "codemirror_mode": {
    "name": "ipython",
    "version": 3
   },
   "file_extension": ".py",
   "mimetype": "text/x-python",
   "name": "python",
   "nbconvert_exporter": "python",
   "pygments_lexer": "ipython3",
   "version": "3.8.5-final"
  }
 },
 "nbformat": 4,
 "nbformat_minor": 2
}